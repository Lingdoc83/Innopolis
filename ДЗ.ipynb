{
 "cells": [
  {
   "cell_type": "markdown",
   "id": "743361f4-bf22-42e5-8579-9b208c61d877",
   "metadata": {},
   "source": [
    "### ДЗ"
   ]
  },
  {
   "cell_type": "code",
   "execution_count": 2,
   "id": "fe9d9b4e-c9eb-4a2c-b453-a1023133f6be",
   "metadata": {},
   "outputs": [
    {
     "name": "stdin",
     "output_type": "stream",
     "text": [
      "Введите сумму кредита \n",
      " 100000\n",
      "Введите процентную ставку \n",
      " 20\n",
      "Введите сумму платежа \n",
      " 7000\n"
     ]
    },
    {
     "name": "stdout",
     "output_type": "stream",
     "text": [
      "Кредит никогда не будет погашен\n"
     ]
    }
   ],
   "source": [
    "loan = input('Введите сумму кредита \\n')\n",
    "loan = float(loan)\n",
    "rate = input('Введите процентную ставку \\n')\n",
    "rate = float(rate)\n",
    "pmt = input('Введите сумму платежа \\n')\n",
    "pmt = float(pmt)\n",
    "kp = 0\n",
    "if pmt <= (loan * rate)/100:\n",
    "    print('Кредит никогда не будет погашен')\n",
    "else:\n",
    "    while loan > 0:\n",
    "        loan = (loan + ((loan * rate)/100)) - pmt\n",
    "        kp +=1\n",
    "    print('Для погашения кредита понадобится', kp, 'лет \\n')\n"
   ]
  },
  {
   "cell_type": "code",
   "execution_count": null,
   "id": "e0657aff-25d3-4888-9527-92c8df5c551a",
   "metadata": {},
   "outputs": [],
   "source": []
  }
 ],
 "metadata": {
  "kernelspec": {
   "display_name": "Python 3 (ipykernel)",
   "language": "python",
   "name": "python3"
  },
  "language_info": {
   "codemirror_mode": {
    "name": "ipython",
    "version": 3
   },
   "file_extension": ".py",
   "mimetype": "text/x-python",
   "name": "python",
   "nbconvert_exporter": "python",
   "pygments_lexer": "ipython3",
   "version": "3.12.4"
  }
 },
 "nbformat": 4,
 "nbformat_minor": 5
}
