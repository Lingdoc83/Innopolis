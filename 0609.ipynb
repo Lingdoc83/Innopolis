{
 "cells": [
  {
   "cell_type": "code",
   "execution_count": 1,
   "id": "23571f2b-02b2-4297-8188-4c0972ad3d27",
   "metadata": {},
   "outputs": [],
   "source": [
    "import pandas as pd"
   ]
  },
  {
   "cell_type": "code",
   "execution_count": 2,
   "id": "0bca10a6-d3fc-4629-984f-75f91018047d",
   "metadata": {},
   "outputs": [
    {
     "data": {
      "text/plain": [
       "'2.2.2'"
      ]
     },
     "execution_count": 2,
     "metadata": {},
     "output_type": "execute_result"
    }
   ],
   "source": [
    "pd.__version__"
   ]
  },
  {
   "cell_type": "code",
   "execution_count": 3,
   "id": "25cbf941-fd85-4b18-a182-ea578918c1bf",
   "metadata": {},
   "outputs": [],
   "source": [
    "import numpy as np"
   ]
  },
  {
   "cell_type": "code",
   "execution_count": 4,
   "id": "0104a08a-77e1-46a2-9e5a-89a7d97a5085",
   "metadata": {},
   "outputs": [
    {
     "data": {
      "text/plain": [
       "'1.26.4'"
      ]
     },
     "execution_count": 4,
     "metadata": {},
     "output_type": "execute_result"
    }
   ],
   "source": [
    "np.__version__"
   ]
  },
  {
   "cell_type": "code",
   "execution_count": 5,
   "id": "182a4a3b-2724-4627-9da1-d50928f230ca",
   "metadata": {},
   "outputs": [],
   "source": [
    "a = pd.Series([1,2,3,4,])"
   ]
  },
  {
   "cell_type": "code",
   "execution_count": 7,
   "id": "c64b2ce0-8b0d-4b6f-bcc3-4f7529e58ff8",
   "metadata": {},
   "outputs": [
    {
     "data": {
      "text/plain": [
       "RangeIndex(start=0, stop=4, step=1)"
      ]
     },
     "execution_count": 7,
     "metadata": {},
     "output_type": "execute_result"
    }
   ],
   "source": [
    "a.index"
   ]
  },
  {
   "cell_type": "code",
   "execution_count": 8,
   "id": "9c80eb30-36f3-48aa-91c3-4cf1a74aa832",
   "metadata": {},
   "outputs": [],
   "source": [
    "b = pd.Series([1,2,3,4], index = ['a', 'b', 'c', 'd'])"
   ]
  },
  {
   "cell_type": "code",
   "execution_count": 9,
   "id": "b5ef8a1e-326e-4ca7-98e4-4727b91516aa",
   "metadata": {},
   "outputs": [
    {
     "data": {
      "text/plain": [
       "Index(['a', 'b', 'c', 'd'], dtype='object')"
      ]
     },
     "execution_count": 9,
     "metadata": {},
     "output_type": "execute_result"
    }
   ],
   "source": [
    "b.index"
   ]
  },
  {
   "cell_type": "code",
   "execution_count": 10,
   "id": "64853b25-5a02-463e-8178-a78d29f04c1c",
   "metadata": {},
   "outputs": [],
   "source": [
    "c = pd.Series({'a':1, 'b':2, 'c':3, 'd':4})"
   ]
  },
  {
   "cell_type": "code",
   "execution_count": 11,
   "id": "96f22a64-cc64-4bd6-b9f1-ef6e071265e4",
   "metadata": {},
   "outputs": [
    {
     "data": {
      "text/plain": [
       "a    1\n",
       "b    2\n",
       "c    3\n",
       "d    4\n",
       "dtype: int64"
      ]
     },
     "execution_count": 11,
     "metadata": {},
     "output_type": "execute_result"
    }
   ],
   "source": [
    "c"
   ]
  },
  {
   "cell_type": "code",
   "execution_count": 12,
   "id": "8bee70c7-42de-4587-a880-fb5a5597805a",
   "metadata": {},
   "outputs": [],
   "source": [
    "c.name= 'Number'"
   ]
  },
  {
   "cell_type": "code",
   "execution_count": 13,
   "id": "b5f4193c-d1ff-438f-b89b-1fdeb2f889f5",
   "metadata": {},
   "outputs": [
    {
     "data": {
      "text/plain": [
       "a    1\n",
       "b    2\n",
       "c    3\n",
       "d    4\n",
       "Name: Number, dtype: int64"
      ]
     },
     "execution_count": 13,
     "metadata": {},
     "output_type": "execute_result"
    }
   ],
   "source": [
    "c"
   ]
  },
  {
   "cell_type": "code",
   "execution_count": 16,
   "id": "f680bae8-b7d8-49e7-805c-e2c8af67b04d",
   "metadata": {},
   "outputs": [],
   "source": [
    "prices = pd.Series({'Яблоки': 150, 'Груши': 200, 'Апельсины': 250})"
   ]
  },
  {
   "cell_type": "code",
   "execution_count": 22,
   "id": "52fc5725-6122-4529-be82-9699ac5db6a0",
   "metadata": {},
   "outputs": [
    {
     "data": {
      "text/plain": [
       "Фрукты\n",
       "Яблоки       150\n",
       "Груши        200\n",
       "Апельсины    250\n",
       "dtype: int64"
      ]
     },
     "execution_count": 22,
     "metadata": {},
     "output_type": "execute_result"
    }
   ],
   "source": [
    "prices"
   ]
  },
  {
   "cell_type": "code",
   "execution_count": 21,
   "id": "50fa327b-af13-4f55-ba45-402edda1e456",
   "metadata": {},
   "outputs": [
    {
     "data": {
      "text/plain": [
       "dtype('int64')"
      ]
     },
     "execution_count": 21,
     "metadata": {},
     "output_type": "execute_result"
    }
   ],
   "source": [
    "prices.dtypes"
   ]
  },
  {
   "cell_type": "code",
   "execution_count": 19,
   "id": "efa1ece4-b178-4eb9-849e-4fbb793f58e6",
   "metadata": {},
   "outputs": [],
   "source": [
    "prices.index.name = 'Фрукты'"
   ]
  },
  {
   "cell_type": "raw",
   "id": "1619bf70-a7cc-4669-bd32-948895507985",
   "metadata": {},
   "source": [
    "prices"
   ]
  },
  {
   "cell_type": "code",
   "execution_count": 31,
   "id": "d5a36203-0210-40da-bf0f-69a3775c28a7",
   "metadata": {},
   "outputs": [],
   "source": [
    "sales = pd.DataFrame({'Яблоки': [150, 160, 140], 'Груши': [200, 240, 300], 'Апельсины': [250, 270, 290]}, index = ['Январь', 'Февраль', 'Март'])"
   ]
  },
  {
   "cell_type": "code",
   "execution_count": 32,
   "id": "818dfee0-33cc-4267-8cf7-2986c184a48d",
   "metadata": {},
   "outputs": [
    {
     "data": {
      "text/html": [
       "<div>\n",
       "<style scoped>\n",
       "    .dataframe tbody tr th:only-of-type {\n",
       "        vertical-align: middle;\n",
       "    }\n",
       "\n",
       "    .dataframe tbody tr th {\n",
       "        vertical-align: top;\n",
       "    }\n",
       "\n",
       "    .dataframe thead th {\n",
       "        text-align: right;\n",
       "    }\n",
       "</style>\n",
       "<table border=\"1\" class=\"dataframe\">\n",
       "  <thead>\n",
       "    <tr style=\"text-align: right;\">\n",
       "      <th></th>\n",
       "      <th>Яблоки</th>\n",
       "      <th>Груши</th>\n",
       "      <th>Апельсины</th>\n",
       "    </tr>\n",
       "  </thead>\n",
       "  <tbody>\n",
       "    <tr>\n",
       "      <th>Январь</th>\n",
       "      <td>150</td>\n",
       "      <td>200</td>\n",
       "      <td>250</td>\n",
       "    </tr>\n",
       "    <tr>\n",
       "      <th>Февраль</th>\n",
       "      <td>160</td>\n",
       "      <td>240</td>\n",
       "      <td>270</td>\n",
       "    </tr>\n",
       "    <tr>\n",
       "      <th>Март</th>\n",
       "      <td>140</td>\n",
       "      <td>300</td>\n",
       "      <td>290</td>\n",
       "    </tr>\n",
       "  </tbody>\n",
       "</table>\n",
       "</div>"
      ],
      "text/plain": [
       "         Яблоки  Груши  Апельсины\n",
       "Январь      150    200        250\n",
       "Февраль     160    240        270\n",
       "Март        140    300        290"
      ]
     },
     "execution_count": 32,
     "metadata": {},
     "output_type": "execute_result"
    }
   ],
   "source": [
    "sales"
   ]
  },
  {
   "cell_type": "code",
   "execution_count": 33,
   "id": "741b14eb-cde3-42f8-afb5-b871e8819b77",
   "metadata": {},
   "outputs": [
    {
     "data": {
      "text/plain": [
       "Январь     150\n",
       "Февраль    160\n",
       "Март       140\n",
       "Name: Яблоки, dtype: int64"
      ]
     },
     "execution_count": 33,
     "metadata": {},
     "output_type": "execute_result"
    }
   ],
   "source": [
    "sales['Яблоки']"
   ]
  },
  {
   "cell_type": "code",
   "execution_count": 35,
   "id": "52b376dd-8c71-497c-bbf5-44551062c34b",
   "metadata": {},
   "outputs": [
    {
     "data": {
      "text/plain": [
       "pandas.core.series.Series"
      ]
     },
     "execution_count": 35,
     "metadata": {},
     "output_type": "execute_result"
    }
   ],
   "source": [
    "type(sales['Яблоки'])"
   ]
  },
  {
   "cell_type": "code",
   "execution_count": 39,
   "id": "e9ba8d53-eb09-4536-bfdb-b1604d033971",
   "metadata": {},
   "outputs": [],
   "source": [
    "salo = ['Яблоки', 'Апельсины']"
   ]
  },
  {
   "cell_type": "code",
   "execution_count": 40,
   "id": "6b069ae8-2cf9-45a9-ae4a-61dd294fb192",
   "metadata": {},
   "outputs": [
    {
     "data": {
      "text/html": [
       "<div>\n",
       "<style scoped>\n",
       "    .dataframe tbody tr th:only-of-type {\n",
       "        vertical-align: middle;\n",
       "    }\n",
       "\n",
       "    .dataframe tbody tr th {\n",
       "        vertical-align: top;\n",
       "    }\n",
       "\n",
       "    .dataframe thead th {\n",
       "        text-align: right;\n",
       "    }\n",
       "</style>\n",
       "<table border=\"1\" class=\"dataframe\">\n",
       "  <thead>\n",
       "    <tr style=\"text-align: right;\">\n",
       "      <th></th>\n",
       "      <th>Яблоки</th>\n",
       "      <th>Апельсины</th>\n",
       "    </tr>\n",
       "  </thead>\n",
       "  <tbody>\n",
       "    <tr>\n",
       "      <th>Январь</th>\n",
       "      <td>150</td>\n",
       "      <td>250</td>\n",
       "    </tr>\n",
       "    <tr>\n",
       "      <th>Февраль</th>\n",
       "      <td>160</td>\n",
       "      <td>270</td>\n",
       "    </tr>\n",
       "    <tr>\n",
       "      <th>Март</th>\n",
       "      <td>140</td>\n",
       "      <td>290</td>\n",
       "    </tr>\n",
       "  </tbody>\n",
       "</table>\n",
       "</div>"
      ],
      "text/plain": [
       "         Яблоки  Апельсины\n",
       "Январь      150        250\n",
       "Февраль     160        270\n",
       "Март        140        290"
      ]
     },
     "execution_count": 40,
     "metadata": {},
     "output_type": "execute_result"
    }
   ],
   "source": [
    "sales[salo]"
   ]
  },
  {
   "cell_type": "code",
   "execution_count": 45,
   "id": "2202adcb-4392-410f-81b5-082700c12952",
   "metadata": {},
   "outputs": [
    {
     "data": {
      "text/plain": [
       "Яблоки       160\n",
       "Груши        240\n",
       "Апельсины    270\n",
       "Name: Февраль, dtype: int64"
      ]
     },
     "execution_count": 45,
     "metadata": {},
     "output_type": "execute_result"
    }
   ],
   "source": [
    "sales.loc['Февраль']"
   ]
  },
  {
   "cell_type": "code",
   "execution_count": 48,
   "id": "7c431ba7-cb45-429f-9e72-95e9c07721a8",
   "metadata": {},
   "outputs": [
    {
     "data": {
      "text/plain": [
       "250"
      ]
     },
     "execution_count": 48,
     "metadata": {},
     "output_type": "execute_result"
    }
   ],
   "source": [
    "sales.iloc[0,2]"
   ]
  },
  {
   "cell_type": "code",
   "execution_count": 55,
   "id": "31dc4432-0c79-4745-bfe3-e9cd111eb659",
   "metadata": {},
   "outputs": [
    {
     "data": {
      "text/html": [
       "<div>\n",
       "<style scoped>\n",
       "    .dataframe tbody tr th:only-of-type {\n",
       "        vertical-align: middle;\n",
       "    }\n",
       "\n",
       "    .dataframe tbody tr th {\n",
       "        vertical-align: top;\n",
       "    }\n",
       "\n",
       "    .dataframe thead th {\n",
       "        text-align: right;\n",
       "    }\n",
       "</style>\n",
       "<table border=\"1\" class=\"dataframe\">\n",
       "  <thead>\n",
       "    <tr style=\"text-align: right;\">\n",
       "      <th></th>\n",
       "      <th>Яблоки</th>\n",
       "      <th>Груши</th>\n",
       "    </tr>\n",
       "  </thead>\n",
       "  <tbody>\n",
       "    <tr>\n",
       "      <th>Январь</th>\n",
       "      <td>150</td>\n",
       "      <td>200</td>\n",
       "    </tr>\n",
       "    <tr>\n",
       "      <th>Февраль</th>\n",
       "      <td>160</td>\n",
       "      <td>240</td>\n",
       "    </tr>\n",
       "  </tbody>\n",
       "</table>\n",
       "</div>"
      ],
      "text/plain": [
       "         Яблоки  Груши\n",
       "Январь      150    200\n",
       "Февраль     160    240"
      ]
     },
     "execution_count": 55,
     "metadata": {},
     "output_type": "execute_result"
    }
   ],
   "source": [
    "sales.iloc[:-1, :-1]"
   ]
  },
  {
   "cell_type": "markdown",
   "id": "0180a31c-ee2c-4c95-8558-71371383f1db",
   "metadata": {},
   "source": [
    "### Загрузка данных из внешних источников"
   ]
  },
  {
   "cell_type": "code",
   "execution_count": 8,
   "id": "2c10619c-2e8e-45d4-a80c-9e84ab7efcdf",
   "metadata": {},
   "outputs": [],
   "source": [
    "file_path = r\"C:\\Users\\e.sytnik\\Desktop\\Обучение\\entry_russia.xlsx\""
   ]
  },
  {
   "cell_type": "code",
   "execution_count": 9,
   "id": "63ece9ed-a8ad-43d1-bcd9-707783e5a5d1",
   "metadata": {},
   "outputs": [],
   "source": [
    "entry_df = pd.read_excel(file_path, header =2)"
   ]
  },
  {
   "cell_type": "code",
   "execution_count": 10,
   "id": "07fc5ab2-eb64-4350-a64b-c1903cd00f21",
   "metadata": {},
   "outputs": [
    {
     "data": {
      "text/html": [
       "<div>\n",
       "<style scoped>\n",
       "    .dataframe tbody tr th:only-of-type {\n",
       "        vertical-align: middle;\n",
       "    }\n",
       "\n",
       "    .dataframe tbody tr th {\n",
       "        vertical-align: top;\n",
       "    }\n",
       "\n",
       "    .dataframe thead th {\n",
       "        text-align: right;\n",
       "    }\n",
       "</style>\n",
       "<table border=\"1\" class=\"dataframe\">\n",
       "  <thead>\n",
       "    <tr style=\"text-align: right;\">\n",
       "      <th></th>\n",
       "      <th>Страна</th>\n",
       "      <th>Часть света</th>\n",
       "      <th>Год</th>\n",
       "      <th>Квартал</th>\n",
       "      <th>деловая</th>\n",
       "      <th>работа</th>\n",
       "      <th>туризм</th>\n",
       "      <th>частная</th>\n",
       "      <th>транзитный проезд</th>\n",
       "      <th>учеба</th>\n",
       "      <th>переезд на постоянное место жительства</th>\n",
       "      <th>обслуживающий персонал транспортных средств</th>\n",
       "      <th>итого</th>\n",
       "    </tr>\n",
       "  </thead>\n",
       "  <tbody>\n",
       "    <tr>\n",
       "      <th>0</th>\n",
       "      <td>АБХАЗИЯ , Республика Абхазия</td>\n",
       "      <td>Азия</td>\n",
       "      <td>2010</td>\n",
       "      <td>I квартал</td>\n",
       "      <td>41</td>\n",
       "      <td>NaN</td>\n",
       "      <td>1</td>\n",
       "      <td>20256</td>\n",
       "      <td>13</td>\n",
       "      <td>NaN</td>\n",
       "      <td>0</td>\n",
       "      <td>1</td>\n",
       "      <td>20312</td>\n",
       "    </tr>\n",
       "    <tr>\n",
       "      <th>1</th>\n",
       "      <td>АБХАЗИЯ , Республика Абхазия</td>\n",
       "      <td>Азия</td>\n",
       "      <td>2010</td>\n",
       "      <td>II квартал</td>\n",
       "      <td>16</td>\n",
       "      <td>NaN</td>\n",
       "      <td>3</td>\n",
       "      <td>20709</td>\n",
       "      <td>27</td>\n",
       "      <td>NaN</td>\n",
       "      <td>0</td>\n",
       "      <td>8</td>\n",
       "      <td>20763</td>\n",
       "    </tr>\n",
       "    <tr>\n",
       "      <th>2</th>\n",
       "      <td>АБХАЗИЯ , Республика Абхазия</td>\n",
       "      <td>Азия</td>\n",
       "      <td>2010</td>\n",
       "      <td>III квартал</td>\n",
       "      <td>6</td>\n",
       "      <td>NaN</td>\n",
       "      <td>1</td>\n",
       "      <td>6227</td>\n",
       "      <td>8</td>\n",
       "      <td>NaN</td>\n",
       "      <td>0</td>\n",
       "      <td>0</td>\n",
       "      <td>6242</td>\n",
       "    </tr>\n",
       "    <tr>\n",
       "      <th>3</th>\n",
       "      <td>АБХАЗИЯ , Республика Абхазия</td>\n",
       "      <td>Азия</td>\n",
       "      <td>2010</td>\n",
       "      <td>IV квартал</td>\n",
       "      <td>0</td>\n",
       "      <td>NaN</td>\n",
       "      <td>0</td>\n",
       "      <td>4970</td>\n",
       "      <td>1</td>\n",
       "      <td>NaN</td>\n",
       "      <td>0</td>\n",
       "      <td>1</td>\n",
       "      <td>4972</td>\n",
       "    </tr>\n",
       "    <tr>\n",
       "      <th>4</th>\n",
       "      <td>АБХАЗИЯ , Республика Абхазия</td>\n",
       "      <td>Азия</td>\n",
       "      <td>2011</td>\n",
       "      <td>I квартал</td>\n",
       "      <td>43</td>\n",
       "      <td>NaN</td>\n",
       "      <td>0</td>\n",
       "      <td>37873</td>\n",
       "      <td>10</td>\n",
       "      <td>NaN</td>\n",
       "      <td>0</td>\n",
       "      <td>15</td>\n",
       "      <td>37941</td>\n",
       "    </tr>\n",
       "    <tr>\n",
       "      <th>...</th>\n",
       "      <td>...</td>\n",
       "      <td>...</td>\n",
       "      <td>...</td>\n",
       "      <td>...</td>\n",
       "      <td>...</td>\n",
       "      <td>...</td>\n",
       "      <td>...</td>\n",
       "      <td>...</td>\n",
       "      <td>...</td>\n",
       "      <td>...</td>\n",
       "      <td>...</td>\n",
       "      <td>...</td>\n",
       "      <td>...</td>\n",
       "    </tr>\n",
       "    <tr>\n",
       "      <th>11099</th>\n",
       "      <td>ЛИЦА БЕЗ ГРАЖДАНСТВА</td>\n",
       "      <td>Не известно</td>\n",
       "      <td>2023</td>\n",
       "      <td>I квартал</td>\n",
       "      <td>131</td>\n",
       "      <td>45.0</td>\n",
       "      <td>258</td>\n",
       "      <td>17462</td>\n",
       "      <td>13</td>\n",
       "      <td>90.0</td>\n",
       "      <td>0</td>\n",
       "      <td>4317</td>\n",
       "      <td>22316</td>\n",
       "    </tr>\n",
       "    <tr>\n",
       "      <th>11100</th>\n",
       "      <td>ЛИЦА БЕЗ ГРАЖДАНСТВА</td>\n",
       "      <td>Не известно</td>\n",
       "      <td>2023</td>\n",
       "      <td>II квартал</td>\n",
       "      <td>124</td>\n",
       "      <td>45.0</td>\n",
       "      <td>545</td>\n",
       "      <td>21734</td>\n",
       "      <td>22</td>\n",
       "      <td>40.0</td>\n",
       "      <td>0</td>\n",
       "      <td>4275</td>\n",
       "      <td>26785</td>\n",
       "    </tr>\n",
       "    <tr>\n",
       "      <th>11101</th>\n",
       "      <td>ЛИЦА БЕЗ ГРАЖДАНСТВА</td>\n",
       "      <td>Не известно</td>\n",
       "      <td>2023</td>\n",
       "      <td>III квартал</td>\n",
       "      <td>132</td>\n",
       "      <td>83.0</td>\n",
       "      <td>1156</td>\n",
       "      <td>25368</td>\n",
       "      <td>35</td>\n",
       "      <td>120.0</td>\n",
       "      <td>0</td>\n",
       "      <td>4596</td>\n",
       "      <td>31490</td>\n",
       "    </tr>\n",
       "    <tr>\n",
       "      <th>11102</th>\n",
       "      <td>ЛИЦА БЕЗ ГРАЖДАНСТВА</td>\n",
       "      <td>Не известно</td>\n",
       "      <td>2023</td>\n",
       "      <td>IV квартал</td>\n",
       "      <td>98</td>\n",
       "      <td>52.0</td>\n",
       "      <td>936</td>\n",
       "      <td>26165</td>\n",
       "      <td>31</td>\n",
       "      <td>67.0</td>\n",
       "      <td>0</td>\n",
       "      <td>4389</td>\n",
       "      <td>31738</td>\n",
       "    </tr>\n",
       "    <tr>\n",
       "      <th>11103</th>\n",
       "      <td>ЛИЦА БЕЗ ГРАЖДАНСТВА</td>\n",
       "      <td>Не известно</td>\n",
       "      <td>2024</td>\n",
       "      <td>I квартал</td>\n",
       "      <td>57</td>\n",
       "      <td>61.0</td>\n",
       "      <td>429</td>\n",
       "      <td>22587</td>\n",
       "      <td>13</td>\n",
       "      <td>72.0</td>\n",
       "      <td>0</td>\n",
       "      <td>3872</td>\n",
       "      <td>27091</td>\n",
       "    </tr>\n",
       "  </tbody>\n",
       "</table>\n",
       "<p>11104 rows × 13 columns</p>\n",
       "</div>"
      ],
      "text/plain": [
       "                             Страна  Часть света   Год      Квартал  деловая  \\\n",
       "0      АБХАЗИЯ , Республика Абхазия         Азия  2010    I квартал       41   \n",
       "1      АБХАЗИЯ , Республика Абхазия         Азия  2010   II квартал       16   \n",
       "2      АБХАЗИЯ , Республика Абхазия         Азия  2010  III квартал        6   \n",
       "3      АБХАЗИЯ , Республика Абхазия         Азия  2010   IV квартал        0   \n",
       "4      АБХАЗИЯ , Республика Абхазия         Азия  2011    I квартал       43   \n",
       "...                             ...          ...   ...          ...      ...   \n",
       "11099          ЛИЦА БЕЗ ГРАЖДАНСТВА  Не известно  2023    I квартал      131   \n",
       "11100          ЛИЦА БЕЗ ГРАЖДАНСТВА  Не известно  2023   II квартал      124   \n",
       "11101          ЛИЦА БЕЗ ГРАЖДАНСТВА  Не известно  2023  III квартал      132   \n",
       "11102          ЛИЦА БЕЗ ГРАЖДАНСТВА  Не известно  2023   IV квартал       98   \n",
       "11103          ЛИЦА БЕЗ ГРАЖДАНСТВА  Не известно  2024    I квартал       57   \n",
       "\n",
       "       работа  туризм  частная  транзитный проезд  учеба  \\\n",
       "0         NaN       1    20256                 13    NaN   \n",
       "1         NaN       3    20709                 27    NaN   \n",
       "2         NaN       1     6227                  8    NaN   \n",
       "3         NaN       0     4970                  1    NaN   \n",
       "4         NaN       0    37873                 10    NaN   \n",
       "...       ...     ...      ...                ...    ...   \n",
       "11099    45.0     258    17462                 13   90.0   \n",
       "11100    45.0     545    21734                 22   40.0   \n",
       "11101    83.0    1156    25368                 35  120.0   \n",
       "11102    52.0     936    26165                 31   67.0   \n",
       "11103    61.0     429    22587                 13   72.0   \n",
       "\n",
       "       переезд на постоянное место жительства  \\\n",
       "0                                           0   \n",
       "1                                           0   \n",
       "2                                           0   \n",
       "3                                           0   \n",
       "4                                           0   \n",
       "...                                       ...   \n",
       "11099                                       0   \n",
       "11100                                       0   \n",
       "11101                                       0   \n",
       "11102                                       0   \n",
       "11103                                       0   \n",
       "\n",
       "       обслуживающий персонал транспортных средств  итого  \n",
       "0                                                1  20312  \n",
       "1                                                8  20763  \n",
       "2                                                0   6242  \n",
       "3                                                1   4972  \n",
       "4                                               15  37941  \n",
       "...                                            ...    ...  \n",
       "11099                                         4317  22316  \n",
       "11100                                         4275  26785  \n",
       "11101                                         4596  31490  \n",
       "11102                                         4389  31738  \n",
       "11103                                         3872  27091  \n",
       "\n",
       "[11104 rows x 13 columns]"
      ]
     },
     "execution_count": 10,
     "metadata": {},
     "output_type": "execute_result"
    }
   ],
   "source": [
    "entry_df"
   ]
  },
  {
   "cell_type": "code",
   "execution_count": 24,
   "id": "b46f2dc0-5625-4890-bc09-e0c6dba53913",
   "metadata": {},
   "outputs": [],
   "source": [
    "countries_df = pd.read_excel(file_path, sheet_name = 'Страны')"
   ]
  },
  {
   "cell_type": "code",
   "execution_count": 28,
   "id": "0e1fcf47-0fe0-41f5-b2f1-5a14f2b823c5",
   "metadata": {},
   "outputs": [],
   "source": [
    "countries_df = pd.read_excel(file_path, 'Страны')"
   ]
  },
  {
   "cell_type": "code",
   "execution_count": 29,
   "id": "044ff0d0-ac16-4c42-8c01-874ea595f9fe",
   "metadata": {},
   "outputs": [
    {
     "data": {
      "text/html": [
       "<div>\n",
       "<style scoped>\n",
       "    .dataframe tbody tr th:only-of-type {\n",
       "        vertical-align: middle;\n",
       "    }\n",
       "\n",
       "    .dataframe tbody tr th {\n",
       "        vertical-align: top;\n",
       "    }\n",
       "\n",
       "    .dataframe thead th {\n",
       "        text-align: right;\n",
       "    }\n",
       "</style>\n",
       "<table border=\"1\" class=\"dataframe\">\n",
       "  <thead>\n",
       "    <tr style=\"text-align: right;\">\n",
       "      <th></th>\n",
       "      <th>Страна</th>\n",
       "      <th>Часть света</th>\n",
       "    </tr>\n",
       "  </thead>\n",
       "  <tbody>\n",
       "    <tr>\n",
       "      <th>0</th>\n",
       "      <td>АБХАЗИЯ , Республика Абхазия</td>\n",
       "      <td>Азия</td>\n",
       "    </tr>\n",
       "    <tr>\n",
       "      <th>1</th>\n",
       "      <td>АВСТРАЛИЯ</td>\n",
       "      <td>Австралия и Океания</td>\n",
       "    </tr>\n",
       "    <tr>\n",
       "      <th>2</th>\n",
       "      <td>АВСТРИЯ, Австрийская Республика</td>\n",
       "      <td>Европа</td>\n",
       "    </tr>\n",
       "    <tr>\n",
       "      <th>3</th>\n",
       "      <td>АЗЕРБАЙДЖАН, Республика Азербайджан</td>\n",
       "      <td>Азия</td>\n",
       "    </tr>\n",
       "    <tr>\n",
       "      <th>4</th>\n",
       "      <td>АЛБАНИЯ, Республика Албания</td>\n",
       "      <td>Европа</td>\n",
       "    </tr>\n",
       "    <tr>\n",
       "      <th>...</th>\n",
       "      <td>...</td>\n",
       "      <td>...</td>\n",
       "    </tr>\n",
       "    <tr>\n",
       "      <th>221</th>\n",
       "      <td>ЭФИОПИЯ, Федеративная Демократическая Республи...</td>\n",
       "      <td>Африка</td>\n",
       "    </tr>\n",
       "    <tr>\n",
       "      <th>222</th>\n",
       "      <td>ЮЖНАЯ АФРИКА, Южно-Африканская Республика</td>\n",
       "      <td>Африка</td>\n",
       "    </tr>\n",
       "    <tr>\n",
       "      <th>223</th>\n",
       "      <td>ЮЖНАЯ ОСЕТИЯ , Республика Южная Осетия</td>\n",
       "      <td>Азия</td>\n",
       "    </tr>\n",
       "    <tr>\n",
       "      <th>224</th>\n",
       "      <td>ЯМАЙКА</td>\n",
       "      <td>Америка</td>\n",
       "    </tr>\n",
       "    <tr>\n",
       "      <th>225</th>\n",
       "      <td>ЯПОНИЯ</td>\n",
       "      <td>Азия</td>\n",
       "    </tr>\n",
       "  </tbody>\n",
       "</table>\n",
       "<p>226 rows × 2 columns</p>\n",
       "</div>"
      ],
      "text/plain": [
       "                                                Страна          Часть света\n",
       "0                         АБХАЗИЯ , Республика Абхазия                 Азия\n",
       "1                                            АВСТРАЛИЯ  Австралия и Океания\n",
       "2                      АВСТРИЯ, Австрийская Республика               Европа\n",
       "3                  АЗЕРБАЙДЖАН, Республика Азербайджан                 Азия\n",
       "4                          АЛБАНИЯ, Республика Албания               Европа\n",
       "..                                                 ...                  ...\n",
       "221  ЭФИОПИЯ, Федеративная Демократическая Республи...               Африка\n",
       "222          ЮЖНАЯ АФРИКА, Южно-Африканская Республика               Африка\n",
       "223             ЮЖНАЯ ОСЕТИЯ , Республика Южная Осетия                 Азия\n",
       "224                                             ЯМАЙКА              Америка\n",
       "225                                             ЯПОНИЯ                 Азия\n",
       "\n",
       "[226 rows x 2 columns]"
      ]
     },
     "execution_count": 29,
     "metadata": {},
     "output_type": "execute_result"
    }
   ],
   "source": [
    "countries_df"
   ]
  },
  {
   "cell_type": "code",
   "execution_count": 32,
   "id": "518ae96a-c225-4b57-a5da-f73b80b21a38",
   "metadata": {},
   "outputs": [],
   "source": [
    "file_path = r\"C:\\Users\\e.sytnik\\Desktop\\Обучение\\Промежуточная\\Аттестация.xlsx\""
   ]
  },
  {
   "cell_type": "code",
   "execution_count": 33,
   "id": "24e0341d-e5d2-4614-a3a0-bbb1c0f95b7d",
   "metadata": {},
   "outputs": [
    {
     "data": {
      "text/html": [
       "<div>\n",
       "<style scoped>\n",
       "    .dataframe tbody tr th:only-of-type {\n",
       "        vertical-align: middle;\n",
       "    }\n",
       "\n",
       "    .dataframe tbody tr th {\n",
       "        vertical-align: top;\n",
       "    }\n",
       "\n",
       "    .dataframe thead th {\n",
       "        text-align: right;\n",
       "    }\n",
       "</style>\n",
       "<table border=\"1\" class=\"dataframe\">\n",
       "  <thead>\n",
       "    <tr style=\"text-align: right;\">\n",
       "      <th></th>\n",
       "      <th>departure_airport</th>\n",
       "      <th>arrival_airport</th>\n",
       "      <th>per_month</th>\n",
       "      <th>people_flown</th>\n",
       "      <th>sum</th>\n",
       "      <th>piople</th>\n",
       "      <th>npa</th>\n",
       "    </tr>\n",
       "  </thead>\n",
       "  <tbody>\n",
       "    <tr>\n",
       "      <th>0</th>\n",
       "      <td>Новосибирск - Tolmachevo Airport (OVB)</td>\n",
       "      <td>Абакан - Abakan Airport (ABA)</td>\n",
       "      <td>7.0</td>\n",
       "      <td>304.000000</td>\n",
       "      <td>1763200.0</td>\n",
       "      <td>3585.0</td>\n",
       "      <td>very few</td>\n",
       "    </tr>\n",
       "    <tr>\n",
       "      <th>1</th>\n",
       "      <td>Новосибирск - Tolmachevo Airport (OVB)</td>\n",
       "      <td>Абакан - Abakan Airport (ABA)</td>\n",
       "      <td>8.0</td>\n",
       "      <td>147.000000</td>\n",
       "      <td>852600.0</td>\n",
       "      <td>3585.0</td>\n",
       "      <td>very few</td>\n",
       "    </tr>\n",
       "    <tr>\n",
       "      <th>2</th>\n",
       "      <td>Москва - Domodedovo International Airport (DME)</td>\n",
       "      <td>Абакан - Abakan Airport (ABA)</td>\n",
       "      <td>8.0</td>\n",
       "      <td>365.000000</td>\n",
       "      <td>16589900.0</td>\n",
       "      <td>3585.0</td>\n",
       "      <td>very few</td>\n",
       "    </tr>\n",
       "    <tr>\n",
       "      <th>3</th>\n",
       "      <td>Москва - Domodedovo International Airport (DME)</td>\n",
       "      <td>Абакан - Abakan Airport (ABA)</td>\n",
       "      <td>7.0</td>\n",
       "      <td>672.000000</td>\n",
       "      <td>30939500.0</td>\n",
       "      <td>3585.0</td>\n",
       "      <td>very few</td>\n",
       "    </tr>\n",
       "    <tr>\n",
       "      <th>4</th>\n",
       "      <td>Томск - Bogashevo Airport (TOF)</td>\n",
       "      <td>Абакан - Abakan Airport (ABA)</td>\n",
       "      <td>8.0</td>\n",
       "      <td>153.000000</td>\n",
       "      <td>749700.0</td>\n",
       "      <td>3585.0</td>\n",
       "      <td>very few</td>\n",
       "    </tr>\n",
       "    <tr>\n",
       "      <th>...</th>\n",
       "      <td>...</td>\n",
       "      <td>...</td>\n",
       "      <td>...</td>\n",
       "      <td>...</td>\n",
       "      <td>...</td>\n",
       "      <td>...</td>\n",
       "      <td>...</td>\n",
       "    </tr>\n",
       "    <tr>\n",
       "      <th>1795</th>\n",
       "      <td>Санкт-Петербург - Pulkovo Airport (LED)</td>\n",
       "      <td>Якутск - Yakutsk Airport (YKS)</td>\n",
       "      <td>8.0</td>\n",
       "      <td>195.000000</td>\n",
       "      <td>12185500.0</td>\n",
       "      <td>4480.0</td>\n",
       "      <td>very few</td>\n",
       "    </tr>\n",
       "    <tr>\n",
       "      <th>1796</th>\n",
       "      <td>Санкт-Петербург - Pulkovo Airport (LED)</td>\n",
       "      <td>Якутск - Yakutsk Airport (YKS)</td>\n",
       "      <td>7.0</td>\n",
       "      <td>410.000000</td>\n",
       "      <td>26424500.0</td>\n",
       "      <td>4480.0</td>\n",
       "      <td>very few</td>\n",
       "    </tr>\n",
       "    <tr>\n",
       "      <th>1797</th>\n",
       "      <td>Санкт-Петербург - Pulkovo Airport (LED)</td>\n",
       "      <td>Якутск - Yakutsk Airport (YKS)</td>\n",
       "      <td>6.0</td>\n",
       "      <td>399.000000</td>\n",
       "      <td>26347200.0</td>\n",
       "      <td>4480.0</td>\n",
       "      <td>very few</td>\n",
       "    </tr>\n",
       "    <tr>\n",
       "      <th>1798</th>\n",
       "      <td>Санкт-Петербург - Pulkovo Airport (LED)</td>\n",
       "      <td>Якутск - Yakutsk Airport (YKS)</td>\n",
       "      <td>5.0</td>\n",
       "      <td>140.000000</td>\n",
       "      <td>9605700.0</td>\n",
       "      <td>4480.0</td>\n",
       "      <td>very few</td>\n",
       "    </tr>\n",
       "    <tr>\n",
       "      <th>1799</th>\n",
       "      <td>NaN</td>\n",
       "      <td>NaN</td>\n",
       "      <td>NaN</td>\n",
       "      <td>1156.460978</td>\n",
       "      <td>NaN</td>\n",
       "      <td>NaN</td>\n",
       "      <td>NaN</td>\n",
       "    </tr>\n",
       "  </tbody>\n",
       "</table>\n",
       "<p>1800 rows × 7 columns</p>\n",
       "</div>"
      ],
      "text/plain": [
       "                                    departure_airport  \\\n",
       "0              Новосибирск - Tolmachevo Airport (OVB)   \n",
       "1              Новосибирск - Tolmachevo Airport (OVB)   \n",
       "2     Москва - Domodedovo International Airport (DME)   \n",
       "3     Москва - Domodedovo International Airport (DME)   \n",
       "4                     Томск - Bogashevo Airport (TOF)   \n",
       "...                                               ...   \n",
       "1795          Санкт-Петербург - Pulkovo Airport (LED)   \n",
       "1796          Санкт-Петербург - Pulkovo Airport (LED)   \n",
       "1797          Санкт-Петербург - Pulkovo Airport (LED)   \n",
       "1798          Санкт-Петербург - Pulkovo Airport (LED)   \n",
       "1799                                              NaN   \n",
       "\n",
       "                     arrival_airport  per_month  people_flown         sum  \\\n",
       "0      Абакан - Abakan Airport (ABA)        7.0    304.000000   1763200.0   \n",
       "1      Абакан - Abakan Airport (ABA)        8.0    147.000000    852600.0   \n",
       "2      Абакан - Abakan Airport (ABA)        8.0    365.000000  16589900.0   \n",
       "3      Абакан - Abakan Airport (ABA)        7.0    672.000000  30939500.0   \n",
       "4      Абакан - Abakan Airport (ABA)        8.0    153.000000    749700.0   \n",
       "...                              ...        ...           ...         ...   \n",
       "1795  Якутск - Yakutsk Airport (YKS)        8.0    195.000000  12185500.0   \n",
       "1796  Якутск - Yakutsk Airport (YKS)        7.0    410.000000  26424500.0   \n",
       "1797  Якутск - Yakutsk Airport (YKS)        6.0    399.000000  26347200.0   \n",
       "1798  Якутск - Yakutsk Airport (YKS)        5.0    140.000000   9605700.0   \n",
       "1799                             NaN        NaN   1156.460978         NaN   \n",
       "\n",
       "      piople       npa  \n",
       "0     3585.0  very few  \n",
       "1     3585.0  very few  \n",
       "2     3585.0  very few  \n",
       "3     3585.0  very few  \n",
       "4     3585.0  very few  \n",
       "...      ...       ...  \n",
       "1795  4480.0  very few  \n",
       "1796  4480.0  very few  \n",
       "1797  4480.0  very few  \n",
       "1798  4480.0  very few  \n",
       "1799     NaN       NaN  \n",
       "\n",
       "[1800 rows x 7 columns]"
      ]
     },
     "execution_count": 33,
     "metadata": {},
     "output_type": "execute_result"
    }
   ],
   "source": [
    "prom_df = pd.read_excel(file_path)\n",
    "prom_df"
   ]
  },
  {
   "cell_type": "code",
   "execution_count": null,
   "id": "24f376f5-2aae-4152-b30d-266495e34242",
   "metadata": {},
   "outputs": [],
   "source": []
  }
 ],
 "metadata": {
  "kernelspec": {
   "display_name": "Python 3 (ipykernel)",
   "language": "python",
   "name": "python3"
  },
  "language_info": {
   "codemirror_mode": {
    "name": "ipython",
    "version": 3
   },
   "file_extension": ".py",
   "mimetype": "text/x-python",
   "name": "python",
   "nbconvert_exporter": "python",
   "pygments_lexer": "ipython3",
   "version": "3.12.4"
  }
 },
 "nbformat": 4,
 "nbformat_minor": 5
}
