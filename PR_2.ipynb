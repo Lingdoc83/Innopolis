{
 "cells": [
  {
   "cell_type": "code",
   "execution_count": 68,
   "id": "af66e22a",
   "metadata": {},
   "outputs": [],
   "source": [
    "import pandas as pd\n",
    "import statsmodels.api as sm\n",
    "import numpy as np\n",
    "import matplotlib.pyplot as plt\n",
    "import seaborn as sns\n",
    "import warnings\n",
    "warnings.filterwarnings(\"ignore\")\n",
    "from scipy import stats\n",
    "import statistics\n",
    "from scipy.stats import mannwhitneyu"
   ]
  },
  {
   "cell_type": "markdown",
   "id": "7267d662",
   "metadata": {},
   "source": [
    "### Загружаем данные"
   ]
  },
  {
   "cell_type": "code",
   "execution_count": 6,
   "id": "6b59ffa7",
   "metadata": {},
   "outputs": [
    {
     "data": {
      "text/html": [
       "<div>\n",
       "<style scoped>\n",
       "    .dataframe tbody tr th:only-of-type {\n",
       "        vertical-align: middle;\n",
       "    }\n",
       "\n",
       "    .dataframe tbody tr th {\n",
       "        vertical-align: top;\n",
       "    }\n",
       "\n",
       "    .dataframe thead th {\n",
       "        text-align: right;\n",
       "    }\n",
       "</style>\n",
       "<table border=\"1\" class=\"dataframe\">\n",
       "  <thead>\n",
       "    <tr style=\"text-align: right;\">\n",
       "      <th></th>\n",
       "      <th>funded_amnt</th>\n",
       "      <th>term</th>\n",
       "      <th>int_rate</th>\n",
       "      <th>sub_grade</th>\n",
       "      <th>addr_state</th>\n",
       "      <th>verification_status</th>\n",
       "      <th>annual_inc</th>\n",
       "      <th>emp_length</th>\n",
       "      <th>delinq_2yrs</th>\n",
       "      <th>inq_last_6mths</th>\n",
       "      <th>...</th>\n",
       "      <th>open_il_12m</th>\n",
       "      <th>open_il_24m</th>\n",
       "      <th>total_bal_il</th>\n",
       "      <th>all_util</th>\n",
       "      <th>inq_fi</th>\n",
       "      <th>inq_last_12m</th>\n",
       "      <th>delinq_amnt</th>\n",
       "      <th>num_il_tl</th>\n",
       "      <th>total_il_high_credit_limit</th>\n",
       "      <th>Class</th>\n",
       "    </tr>\n",
       "  </thead>\n",
       "  <tbody>\n",
       "    <tr>\n",
       "      <th>0</th>\n",
       "      <td>16100</td>\n",
       "      <td>term_36</td>\n",
       "      <td>13.99</td>\n",
       "      <td>C4</td>\n",
       "      <td>CT</td>\n",
       "      <td>Not_Verified</td>\n",
       "      <td>35000.0</td>\n",
       "      <td>emp_5</td>\n",
       "      <td>0</td>\n",
       "      <td>0</td>\n",
       "      <td>...</td>\n",
       "      <td>0</td>\n",
       "      <td>0</td>\n",
       "      <td>1099</td>\n",
       "      <td>48</td>\n",
       "      <td>0</td>\n",
       "      <td>3</td>\n",
       "      <td>0</td>\n",
       "      <td>3</td>\n",
       "      <td>13193</td>\n",
       "      <td>good</td>\n",
       "    </tr>\n",
       "    <tr>\n",
       "      <th>1</th>\n",
       "      <td>32000</td>\n",
       "      <td>term_60</td>\n",
       "      <td>11.99</td>\n",
       "      <td>C1</td>\n",
       "      <td>MN</td>\n",
       "      <td>Verified</td>\n",
       "      <td>72000.0</td>\n",
       "      <td>emp_ge_10</td>\n",
       "      <td>0</td>\n",
       "      <td>0</td>\n",
       "      <td>...</td>\n",
       "      <td>1</td>\n",
       "      <td>3</td>\n",
       "      <td>49187</td>\n",
       "      <td>77</td>\n",
       "      <td>0</td>\n",
       "      <td>0</td>\n",
       "      <td>0</td>\n",
       "      <td>9</td>\n",
       "      <td>65945</td>\n",
       "      <td>good</td>\n",
       "    </tr>\n",
       "    <tr>\n",
       "      <th>2</th>\n",
       "      <td>10000</td>\n",
       "      <td>term_36</td>\n",
       "      <td>16.29</td>\n",
       "      <td>D1</td>\n",
       "      <td>OH</td>\n",
       "      <td>Source_Verified</td>\n",
       "      <td>72000.0</td>\n",
       "      <td>emp_ge_10</td>\n",
       "      <td>0</td>\n",
       "      <td>2</td>\n",
       "      <td>...</td>\n",
       "      <td>2</td>\n",
       "      <td>3</td>\n",
       "      <td>33378</td>\n",
       "      <td>79</td>\n",
       "      <td>1</td>\n",
       "      <td>4</td>\n",
       "      <td>0</td>\n",
       "      <td>9</td>\n",
       "      <td>39387</td>\n",
       "      <td>good</td>\n",
       "    </tr>\n",
       "    <tr>\n",
       "      <th>3</th>\n",
       "      <td>16800</td>\n",
       "      <td>term_60</td>\n",
       "      <td>13.67</td>\n",
       "      <td>C3</td>\n",
       "      <td>NV</td>\n",
       "      <td>Verified</td>\n",
       "      <td>101000.0</td>\n",
       "      <td>emp_lt_1</td>\n",
       "      <td>0</td>\n",
       "      <td>0</td>\n",
       "      <td>...</td>\n",
       "      <td>1</td>\n",
       "      <td>2</td>\n",
       "      <td>55445</td>\n",
       "      <td>64</td>\n",
       "      <td>1</td>\n",
       "      <td>4</td>\n",
       "      <td>0</td>\n",
       "      <td>10</td>\n",
       "      <td>60188</td>\n",
       "      <td>good</td>\n",
       "    </tr>\n",
       "    <tr>\n",
       "      <th>4</th>\n",
       "      <td>3500</td>\n",
       "      <td>term_36</td>\n",
       "      <td>7.39</td>\n",
       "      <td>A4</td>\n",
       "      <td>CA</td>\n",
       "      <td>Source_Verified</td>\n",
       "      <td>50100.0</td>\n",
       "      <td>emp_unk</td>\n",
       "      <td>0</td>\n",
       "      <td>0</td>\n",
       "      <td>...</td>\n",
       "      <td>0</td>\n",
       "      <td>0</td>\n",
       "      <td>0</td>\n",
       "      <td>78</td>\n",
       "      <td>0</td>\n",
       "      <td>0</td>\n",
       "      <td>0</td>\n",
       "      <td>3</td>\n",
       "      <td>0</td>\n",
       "      <td>good</td>\n",
       "    </tr>\n",
       "  </tbody>\n",
       "</table>\n",
       "<p>5 rows × 23 columns</p>\n",
       "</div>"
      ],
      "text/plain": [
       "   funded_amnt     term  int_rate sub_grade addr_state verification_status  \\\n",
       "0        16100  term_36     13.99        C4         CT        Not_Verified   \n",
       "1        32000  term_60     11.99        C1         MN            Verified   \n",
       "2        10000  term_36     16.29        D1         OH     Source_Verified   \n",
       "3        16800  term_60     13.67        C3         NV            Verified   \n",
       "4         3500  term_36      7.39        A4         CA     Source_Verified   \n",
       "\n",
       "   annual_inc emp_length  delinq_2yrs  inq_last_6mths  ...  open_il_12m  \\\n",
       "0     35000.0      emp_5            0               0  ...            0   \n",
       "1     72000.0  emp_ge_10            0               0  ...            1   \n",
       "2     72000.0  emp_ge_10            0               2  ...            2   \n",
       "3    101000.0   emp_lt_1            0               0  ...            1   \n",
       "4     50100.0    emp_unk            0               0  ...            0   \n",
       "\n",
       "   open_il_24m  total_bal_il  all_util  inq_fi  inq_last_12m  delinq_amnt  \\\n",
       "0            0          1099        48       0             3            0   \n",
       "1            3         49187        77       0             0            0   \n",
       "2            3         33378        79       1             4            0   \n",
       "3            2         55445        64       1             4            0   \n",
       "4            0             0        78       0             0            0   \n",
       "\n",
       "   num_il_tl  total_il_high_credit_limit  Class  \n",
       "0          3                       13193   good  \n",
       "1          9                       65945   good  \n",
       "2          9                       39387   good  \n",
       "3         10                       60188   good  \n",
       "4          3                           0   good  \n",
       "\n",
       "[5 rows x 23 columns]"
      ]
     },
     "execution_count": 6,
     "metadata": {},
     "output_type": "execute_result"
    }
   ],
   "source": [
    "item = 'lending_club' # Выбрать из поля Item для вашего датасета\n",
    "package = 'modeldata' # Выбрать из поля Package для вашего датасета\n",
    "\n",
    "df = sm.datasets.get_rdataset(item, package , cache=True).data\n",
    "df.head()"
   ]
  },
  {
   "cell_type": "code",
   "execution_count": 249,
   "id": "22963b7a-c9cc-4b7a-81ac-ac27afc2555f",
   "metadata": {},
   "outputs": [],
   "source": [
    "# Так как данные о верификации имеют значения одинаковые по смыслу, заменяем Source_Verified на Verified"
   ]
  },
  {
   "cell_type": "code",
   "execution_count": 251,
   "id": "792d47e9-a040-477c-bc4c-e9751f9602e1",
   "metadata": {},
   "outputs": [],
   "source": [
    "def ver(x):\n",
    "    if x == 'Source_Verified':\n",
    "        return 'Verified'\n",
    "    else:\n",
    "        return x"
   ]
  },
  {
   "cell_type": "code",
   "execution_count": 253,
   "id": "637e6a40-6503-443d-97a1-53b0ebbea1d2",
   "metadata": {},
   "outputs": [],
   "source": [
    "df['verification_status'] = df['verification_status'].map(ver)"
   ]
  },
  {
   "cell_type": "code",
   "execution_count": 255,
   "id": "513e5f7c-33df-41ae-b1c0-5f3e80198caa",
   "metadata": {},
   "outputs": [
    {
     "data": {
      "text/html": [
       "<div>\n",
       "<style scoped>\n",
       "    .dataframe tbody tr th:only-of-type {\n",
       "        vertical-align: middle;\n",
       "    }\n",
       "\n",
       "    .dataframe tbody tr th {\n",
       "        vertical-align: top;\n",
       "    }\n",
       "\n",
       "    .dataframe thead th {\n",
       "        text-align: right;\n",
       "    }\n",
       "</style>\n",
       "<table border=\"1\" class=\"dataframe\">\n",
       "  <thead>\n",
       "    <tr style=\"text-align: right;\">\n",
       "      <th></th>\n",
       "      <th>funded_amnt</th>\n",
       "      <th>term</th>\n",
       "      <th>int_rate</th>\n",
       "      <th>sub_grade</th>\n",
       "      <th>addr_state</th>\n",
       "      <th>verification_status</th>\n",
       "      <th>annual_inc</th>\n",
       "      <th>emp_length</th>\n",
       "      <th>delinq_2yrs</th>\n",
       "      <th>inq_last_6mths</th>\n",
       "      <th>...</th>\n",
       "      <th>open_il_12m</th>\n",
       "      <th>open_il_24m</th>\n",
       "      <th>total_bal_il</th>\n",
       "      <th>all_util</th>\n",
       "      <th>inq_fi</th>\n",
       "      <th>inq_last_12m</th>\n",
       "      <th>delinq_amnt</th>\n",
       "      <th>num_il_tl</th>\n",
       "      <th>total_il_high_credit_limit</th>\n",
       "      <th>Class</th>\n",
       "    </tr>\n",
       "  </thead>\n",
       "  <tbody>\n",
       "    <tr>\n",
       "      <th>0</th>\n",
       "      <td>16100</td>\n",
       "      <td>term_36</td>\n",
       "      <td>13.99</td>\n",
       "      <td>C4</td>\n",
       "      <td>CT</td>\n",
       "      <td>Not_Verified</td>\n",
       "      <td>35000.0</td>\n",
       "      <td>emp_5</td>\n",
       "      <td>0</td>\n",
       "      <td>0</td>\n",
       "      <td>...</td>\n",
       "      <td>0</td>\n",
       "      <td>0</td>\n",
       "      <td>1099</td>\n",
       "      <td>48</td>\n",
       "      <td>0</td>\n",
       "      <td>3</td>\n",
       "      <td>0</td>\n",
       "      <td>3</td>\n",
       "      <td>13193</td>\n",
       "      <td>good</td>\n",
       "    </tr>\n",
       "    <tr>\n",
       "      <th>1</th>\n",
       "      <td>32000</td>\n",
       "      <td>term_60</td>\n",
       "      <td>11.99</td>\n",
       "      <td>C1</td>\n",
       "      <td>MN</td>\n",
       "      <td>Verified</td>\n",
       "      <td>72000.0</td>\n",
       "      <td>emp_ge_10</td>\n",
       "      <td>0</td>\n",
       "      <td>0</td>\n",
       "      <td>...</td>\n",
       "      <td>1</td>\n",
       "      <td>3</td>\n",
       "      <td>49187</td>\n",
       "      <td>77</td>\n",
       "      <td>0</td>\n",
       "      <td>0</td>\n",
       "      <td>0</td>\n",
       "      <td>9</td>\n",
       "      <td>65945</td>\n",
       "      <td>good</td>\n",
       "    </tr>\n",
       "    <tr>\n",
       "      <th>2</th>\n",
       "      <td>10000</td>\n",
       "      <td>term_36</td>\n",
       "      <td>16.29</td>\n",
       "      <td>D1</td>\n",
       "      <td>OH</td>\n",
       "      <td>Verified</td>\n",
       "      <td>72000.0</td>\n",
       "      <td>emp_ge_10</td>\n",
       "      <td>0</td>\n",
       "      <td>2</td>\n",
       "      <td>...</td>\n",
       "      <td>2</td>\n",
       "      <td>3</td>\n",
       "      <td>33378</td>\n",
       "      <td>79</td>\n",
       "      <td>1</td>\n",
       "      <td>4</td>\n",
       "      <td>0</td>\n",
       "      <td>9</td>\n",
       "      <td>39387</td>\n",
       "      <td>good</td>\n",
       "    </tr>\n",
       "    <tr>\n",
       "      <th>3</th>\n",
       "      <td>16800</td>\n",
       "      <td>term_60</td>\n",
       "      <td>13.67</td>\n",
       "      <td>C3</td>\n",
       "      <td>NV</td>\n",
       "      <td>Verified</td>\n",
       "      <td>101000.0</td>\n",
       "      <td>emp_lt_1</td>\n",
       "      <td>0</td>\n",
       "      <td>0</td>\n",
       "      <td>...</td>\n",
       "      <td>1</td>\n",
       "      <td>2</td>\n",
       "      <td>55445</td>\n",
       "      <td>64</td>\n",
       "      <td>1</td>\n",
       "      <td>4</td>\n",
       "      <td>0</td>\n",
       "      <td>10</td>\n",
       "      <td>60188</td>\n",
       "      <td>good</td>\n",
       "    </tr>\n",
       "    <tr>\n",
       "      <th>4</th>\n",
       "      <td>3500</td>\n",
       "      <td>term_36</td>\n",
       "      <td>7.39</td>\n",
       "      <td>A4</td>\n",
       "      <td>CA</td>\n",
       "      <td>Verified</td>\n",
       "      <td>50100.0</td>\n",
       "      <td>emp_unk</td>\n",
       "      <td>0</td>\n",
       "      <td>0</td>\n",
       "      <td>...</td>\n",
       "      <td>0</td>\n",
       "      <td>0</td>\n",
       "      <td>0</td>\n",
       "      <td>78</td>\n",
       "      <td>0</td>\n",
       "      <td>0</td>\n",
       "      <td>0</td>\n",
       "      <td>3</td>\n",
       "      <td>0</td>\n",
       "      <td>good</td>\n",
       "    </tr>\n",
       "    <tr>\n",
       "      <th>...</th>\n",
       "      <td>...</td>\n",
       "      <td>...</td>\n",
       "      <td>...</td>\n",
       "      <td>...</td>\n",
       "      <td>...</td>\n",
       "      <td>...</td>\n",
       "      <td>...</td>\n",
       "      <td>...</td>\n",
       "      <td>...</td>\n",
       "      <td>...</td>\n",
       "      <td>...</td>\n",
       "      <td>...</td>\n",
       "      <td>...</td>\n",
       "      <td>...</td>\n",
       "      <td>...</td>\n",
       "      <td>...</td>\n",
       "      <td>...</td>\n",
       "      <td>...</td>\n",
       "      <td>...</td>\n",
       "      <td>...</td>\n",
       "      <td>...</td>\n",
       "    </tr>\n",
       "    <tr>\n",
       "      <th>9852</th>\n",
       "      <td>3025</td>\n",
       "      <td>term_36</td>\n",
       "      <td>13.67</td>\n",
       "      <td>C3</td>\n",
       "      <td>GA</td>\n",
       "      <td>Not_Verified</td>\n",
       "      <td>43000.0</td>\n",
       "      <td>emp_ge_10</td>\n",
       "      <td>0</td>\n",
       "      <td>0</td>\n",
       "      <td>...</td>\n",
       "      <td>0</td>\n",
       "      <td>0</td>\n",
       "      <td>0</td>\n",
       "      <td>67</td>\n",
       "      <td>0</td>\n",
       "      <td>0</td>\n",
       "      <td>0</td>\n",
       "      <td>0</td>\n",
       "      <td>0</td>\n",
       "      <td>good</td>\n",
       "    </tr>\n",
       "    <tr>\n",
       "      <th>9853</th>\n",
       "      <td>16000</td>\n",
       "      <td>term_60</td>\n",
       "      <td>16.59</td>\n",
       "      <td>D2</td>\n",
       "      <td>OR</td>\n",
       "      <td>Not_Verified</td>\n",
       "      <td>32000.0</td>\n",
       "      <td>emp_3</td>\n",
       "      <td>0</td>\n",
       "      <td>1</td>\n",
       "      <td>...</td>\n",
       "      <td>0</td>\n",
       "      <td>1</td>\n",
       "      <td>12519</td>\n",
       "      <td>40</td>\n",
       "      <td>2</td>\n",
       "      <td>2</td>\n",
       "      <td>0</td>\n",
       "      <td>2</td>\n",
       "      <td>15051</td>\n",
       "      <td>good</td>\n",
       "    </tr>\n",
       "    <tr>\n",
       "      <th>9854</th>\n",
       "      <td>3000</td>\n",
       "      <td>term_36</td>\n",
       "      <td>9.16</td>\n",
       "      <td>B2</td>\n",
       "      <td>NY</td>\n",
       "      <td>Verified</td>\n",
       "      <td>18000.0</td>\n",
       "      <td>emp_lt_1</td>\n",
       "      <td>0</td>\n",
       "      <td>0</td>\n",
       "      <td>...</td>\n",
       "      <td>0</td>\n",
       "      <td>1</td>\n",
       "      <td>1109</td>\n",
       "      <td>73</td>\n",
       "      <td>0</td>\n",
       "      <td>0</td>\n",
       "      <td>0</td>\n",
       "      <td>2</td>\n",
       "      <td>1800</td>\n",
       "      <td>good</td>\n",
       "    </tr>\n",
       "    <tr>\n",
       "      <th>9855</th>\n",
       "      <td>35000</td>\n",
       "      <td>term_36</td>\n",
       "      <td>7.89</td>\n",
       "      <td>A5</td>\n",
       "      <td>OH</td>\n",
       "      <td>Verified</td>\n",
       "      <td>240000.0</td>\n",
       "      <td>emp_ge_10</td>\n",
       "      <td>1</td>\n",
       "      <td>1</td>\n",
       "      <td>...</td>\n",
       "      <td>0</td>\n",
       "      <td>0</td>\n",
       "      <td>0</td>\n",
       "      <td>70</td>\n",
       "      <td>0</td>\n",
       "      <td>2</td>\n",
       "      <td>0</td>\n",
       "      <td>6</td>\n",
       "      <td>0</td>\n",
       "      <td>good</td>\n",
       "    </tr>\n",
       "    <tr>\n",
       "      <th>9856</th>\n",
       "      <td>12000</td>\n",
       "      <td>term_60</td>\n",
       "      <td>14.46</td>\n",
       "      <td>C4</td>\n",
       "      <td>VA</td>\n",
       "      <td>Verified</td>\n",
       "      <td>47856.0</td>\n",
       "      <td>emp_4</td>\n",
       "      <td>0</td>\n",
       "      <td>0</td>\n",
       "      <td>...</td>\n",
       "      <td>1</td>\n",
       "      <td>2</td>\n",
       "      <td>52011</td>\n",
       "      <td>40</td>\n",
       "      <td>1</td>\n",
       "      <td>2</td>\n",
       "      <td>0</td>\n",
       "      <td>19</td>\n",
       "      <td>52294</td>\n",
       "      <td>good</td>\n",
       "    </tr>\n",
       "  </tbody>\n",
       "</table>\n",
       "<p>9857 rows × 23 columns</p>\n",
       "</div>"
      ],
      "text/plain": [
       "      funded_amnt     term  int_rate sub_grade addr_state verification_status  \\\n",
       "0           16100  term_36     13.99        C4         CT        Not_Verified   \n",
       "1           32000  term_60     11.99        C1         MN            Verified   \n",
       "2           10000  term_36     16.29        D1         OH            Verified   \n",
       "3           16800  term_60     13.67        C3         NV            Verified   \n",
       "4            3500  term_36      7.39        A4         CA            Verified   \n",
       "...           ...      ...       ...       ...        ...                 ...   \n",
       "9852         3025  term_36     13.67        C3         GA        Not_Verified   \n",
       "9853        16000  term_60     16.59        D2         OR        Not_Verified   \n",
       "9854         3000  term_36      9.16        B2         NY            Verified   \n",
       "9855        35000  term_36      7.89        A5         OH            Verified   \n",
       "9856        12000  term_60     14.46        C4         VA            Verified   \n",
       "\n",
       "      annual_inc emp_length  delinq_2yrs  inq_last_6mths  ...  open_il_12m  \\\n",
       "0        35000.0      emp_5            0               0  ...            0   \n",
       "1        72000.0  emp_ge_10            0               0  ...            1   \n",
       "2        72000.0  emp_ge_10            0               2  ...            2   \n",
       "3       101000.0   emp_lt_1            0               0  ...            1   \n",
       "4        50100.0    emp_unk            0               0  ...            0   \n",
       "...          ...        ...          ...             ...  ...          ...   \n",
       "9852     43000.0  emp_ge_10            0               0  ...            0   \n",
       "9853     32000.0      emp_3            0               1  ...            0   \n",
       "9854     18000.0   emp_lt_1            0               0  ...            0   \n",
       "9855    240000.0  emp_ge_10            1               1  ...            0   \n",
       "9856     47856.0      emp_4            0               0  ...            1   \n",
       "\n",
       "      open_il_24m  total_bal_il  all_util  inq_fi  inq_last_12m  delinq_amnt  \\\n",
       "0               0          1099        48       0             3            0   \n",
       "1               3         49187        77       0             0            0   \n",
       "2               3         33378        79       1             4            0   \n",
       "3               2         55445        64       1             4            0   \n",
       "4               0             0        78       0             0            0   \n",
       "...           ...           ...       ...     ...           ...          ...   \n",
       "9852            0             0        67       0             0            0   \n",
       "9853            1         12519        40       2             2            0   \n",
       "9854            1          1109        73       0             0            0   \n",
       "9855            0             0        70       0             2            0   \n",
       "9856            2         52011        40       1             2            0   \n",
       "\n",
       "      num_il_tl  total_il_high_credit_limit  Class  \n",
       "0             3                       13193   good  \n",
       "1             9                       65945   good  \n",
       "2             9                       39387   good  \n",
       "3            10                       60188   good  \n",
       "4             3                           0   good  \n",
       "...         ...                         ...    ...  \n",
       "9852          0                           0   good  \n",
       "9853          2                       15051   good  \n",
       "9854          2                        1800   good  \n",
       "9855          6                           0   good  \n",
       "9856         19                       52294   good  \n",
       "\n",
       "[9857 rows x 23 columns]"
      ]
     },
     "execution_count": 255,
     "metadata": {},
     "output_type": "execute_result"
    }
   ],
   "source": [
    "df"
   ]
  },
  {
   "cell_type": "markdown",
   "id": "4b64630d",
   "metadata": {},
   "source": [
    "### Далее идет ваше решение"
   ]
  },
  {
   "cell_type": "markdown",
   "id": "95cd0e77",
   "metadata": {},
   "source": [
    "Задание\n",
    "\n",
    "1) Изучите внимательно ваш датасет и смысл переменных, которые в нем содержатся\n",
    "\n",
    "2) Сформулируйте на базе переменных три вида гипотез:\n",
    "    а) Выберите две категориальные переменные и сформулируйте гипотезу об их взаимосвязи\n",
    "    б) Выберите одну категориальную и одну числовую переменную и сформулируйте гипотезу об их взаимосвязи\n",
    "    в) Выберите две числовые переменные и сформулируйте гипотезу об их взаимосвязи\n",
    "    \n",
    "3) Для каждой гипотезы постарайтесь привести логический смысл, почему вы считаете, что эта взаимосвязь должна существовать и какую форму взаимосвязи вы ожидаете. Что это дает с практической точки зрения?\n",
    "\n",
    "4) Для выбранных переменных проведите разведочный анализ данных. Приведите наиболее подходящие описательные статистики, частотные распределения, постройте графики, которые бы давали представление как о переменных по отдельности, так и об их взаимосвязи\n",
    "\n",
    "5) Проведите очистку данных от пропусков, выбросов и некорректных значений любым выбранным способом. Постарайтесь обосновать этот способ.\n",
    "\n",
    "6) Протестируйте распределение числовой переменной на соответствие нормальному. Постройте QQ-plot и гистограмму.\n",
    "\n",
    "7) Проведите тесты гипотез из пункта (2) и сделайте выводы. Какой практический смысл имеют результаты проведенных тестов? Как их можно использовать?\n",
    "\n",
    "8) Результат сохранить на GitHub и отправить в виде ссылки на файл + блокнота в формате ipynb\n",
    "\n",
    "Помните, что просто посчитать - это половина задания. К каждому шагу нужны пояснения и описания. Старайтесь структурировать ваш код, чтобы он был понятен стороннуму пользователю!"
   ]
  },
  {
   "cell_type": "code",
   "execution_count": 259,
   "id": "737218fe-0804-46b3-835f-f994fae808e7",
   "metadata": {},
   "outputs": [
    {
     "data": {
      "text/plain": [
       "funded_amnt                   0\n",
       "term                          0\n",
       "int_rate                      0\n",
       "sub_grade                     0\n",
       "addr_state                    0\n",
       "verification_status           0\n",
       "annual_inc                    0\n",
       "emp_length                    0\n",
       "delinq_2yrs                   0\n",
       "inq_last_6mths                0\n",
       "revol_util                    0\n",
       "acc_now_delinq                0\n",
       "open_il_6m                    0\n",
       "open_il_12m                   0\n",
       "open_il_24m                   0\n",
       "total_bal_il                  0\n",
       "all_util                      0\n",
       "inq_fi                        0\n",
       "inq_last_12m                  0\n",
       "delinq_amnt                   0\n",
       "num_il_tl                     0\n",
       "total_il_high_credit_limit    0\n",
       "Class                         0\n",
       "dtype: int64"
      ]
     },
     "execution_count": 259,
     "metadata": {},
     "output_type": "execute_result"
    }
   ],
   "source": [
    "df.isna().sum()"
   ]
  },
  {
   "cell_type": "code",
   "execution_count": 261,
   "id": "357a9e7f-e1b5-455d-8571-1cae0e66e689",
   "metadata": {},
   "outputs": [],
   "source": [
    "# Датасет без пропусков"
   ]
  },
  {
   "cell_type": "markdown",
   "id": "2186fb69-9460-4825-b8d2-8397a8a35cfd",
   "metadata": {},
   "source": [
    "# 1. Рассмотрим гепотизу 2-х категориальных переменных:\n",
    "### Верифицированые кредиты чаще погашены чем не погашены."
   ]
  },
  {
   "cell_type": "code",
   "execution_count": 264,
   "id": "52017cf3-cc47-44e2-b419-ed479571b107",
   "metadata": {},
   "outputs": [],
   "source": [
    "df_hi = pd.crosstab(df['verification_status'], df['Class'], rownames=['verification_status'], colnames=['Class'])"
   ]
  },
  {
   "cell_type": "code",
   "execution_count": 266,
   "id": "4b19cbfb-c281-494d-9b22-3bb853b27592",
   "metadata": {},
   "outputs": [
    {
     "data": {
      "text/html": [
       "<div>\n",
       "<style scoped>\n",
       "    .dataframe tbody tr th:only-of-type {\n",
       "        vertical-align: middle;\n",
       "    }\n",
       "\n",
       "    .dataframe tbody tr th {\n",
       "        vertical-align: top;\n",
       "    }\n",
       "\n",
       "    .dataframe thead th {\n",
       "        text-align: right;\n",
       "    }\n",
       "</style>\n",
       "<table border=\"1\" class=\"dataframe\">\n",
       "  <thead>\n",
       "    <tr style=\"text-align: right;\">\n",
       "      <th>Class</th>\n",
       "      <th>bad</th>\n",
       "      <th>good</th>\n",
       "    </tr>\n",
       "    <tr>\n",
       "      <th>verification_status</th>\n",
       "      <th></th>\n",
       "      <th></th>\n",
       "    </tr>\n",
       "  </thead>\n",
       "  <tbody>\n",
       "    <tr>\n",
       "      <th>Not_Verified</th>\n",
       "      <td>118</td>\n",
       "      <td>3316</td>\n",
       "    </tr>\n",
       "    <tr>\n",
       "      <th>Verified</th>\n",
       "      <td>399</td>\n",
       "      <td>6024</td>\n",
       "    </tr>\n",
       "  </tbody>\n",
       "</table>\n",
       "</div>"
      ],
      "text/plain": [
       "Class                bad  good\n",
       "verification_status           \n",
       "Not_Verified         118  3316\n",
       "Verified             399  6024"
      ]
     },
     "execution_count": 266,
     "metadata": {},
     "output_type": "execute_result"
    }
   ],
   "source": [
    "df_hi"
   ]
  },
  {
   "cell_type": "code",
   "execution_count": 268,
   "id": "00b60dbf-8213-4c26-a1cc-8141e8e5e704",
   "metadata": {},
   "outputs": [
    {
     "data": {
      "image/png": "[encoded data removed]",
      "text/plain": [
       "<Figure size 1200x600 with 2 Axes>"
      ]
     },
     "metadata": {},
     "output_type": "display_data"
    }
   ],
   "source": [
    "#пересечение переменных Verified и good, для подсчета колличества верифицированых кредитов и нет\n",
    "df_hi = pd.crosstab(df['verification_status'], df['Class'], rownames=['verification_status'], colnames=['Class'])\n",
    "fig, ax = plt.subplots(1, 2, figsize=(12, 6))\n",
    "#распределение верифицированых кредитов\n",
    "ax[0].bar(['Не погашен', 'Погашен'], df_hi.iloc[1], color=['lightblue', 'orange'])\n",
    "ax[0].set_title('Количество кредитов при наличии верификации')\n",
    "ax[0].set_ylabel('Количество кредитов')\n",
    "#распределение не верифицированых кредитов\n",
    "ax[1].bar(['Не погашен', 'Погашен'], df_hi.iloc[0], color=['lightgreen', 'red'])\n",
    "ax[1].set_title('Количество кредитов , без наличия верификации')\n",
    "ax[1].set_ylabel('Количество кредитов')\n",
    "plt.tight_layout()\n",
    "plt.show()"
   ]
  },
  {
   "cell_type": "markdown",
   "id": "663c229f-1ff8-423f-88ec-25a368944b5e",
   "metadata": {},
   "source": [
    "### Возможно кредиты верифицированые чаще погашенны, чем кредиты не верифицированы."
   ]
  },
  {
   "cell_type": "markdown",
   "id": "3d410062-7f6b-4f48-9a7c-11dd4faca78c",
   "metadata": {},
   "source": [
    "### Тест ХИ-квадрат"
   ]
  },
  {
   "cell_type": "code",
   "execution_count": 272,
   "id": "f875c35d-a891-4b49-8d92-b119e03f75b8",
   "metadata": {},
   "outputs": [
    {
     "name": "stdout",
     "output_type": "stream",
     "text": [
      "statistic = 34.135738018849636 pvalue = 5.139856947498245e-09\n",
      "Отвергаем нулевую гипотезу: что переменные verification_status и Class независимы\n"
     ]
    }
   ],
   "source": [
    "print('statistic =',stats.chi2_contingency(df_hi).statistic,'pvalue =',stats.chi2_contingency(df_hi).pvalue)\n",
    "alpha = 0.05\n",
    "print(np.where(stats.chi2_contingency(df_hi).pvalue < alpha , \"Отвергаем нулевую гипотезу: что переменные verification_status и Class независимы\", \"Не отвергаем нулевую гипотезу: что переменныеverification_status и Class зависимы\"))"
   ]
  },
  {
   "cell_type": "code",
   "execution_count": 274,
   "id": "0f86f51d-cbc0-492b-b88f-d365bbb8ec1d",
   "metadata": {},
   "outputs": [],
   "source": [
    "# Гипотеза отвергается, а это значит, что верифицированые кредиты чаще погашены."
   ]
  },
  {
   "cell_type": "markdown",
   "id": "257e755d-d709-4252-9673-4c2040a0a6f4",
   "metadata": {},
   "source": [
    "# 2.Рассмотрим гипотезу категориальной и числовой переменной:\n",
    "### Распределение суммы кредита по погашению либо не погашению близкое к равному."
   ]
  },
  {
   "cell_type": "code",
   "execution_count": 277,
   "id": "49c7361f-4963-4999-83d7-d081269a137b",
   "metadata": {},
   "outputs": [],
   "source": [
    "# Проверяем выбросы"
   ]
  },
  {
   "cell_type": "code",
   "execution_count": 279,
   "id": "976c0a3a-35a2-48dc-80b4-47669c10fbe7",
   "metadata": {},
   "outputs": [
    {
     "data": {
      "text/plain": [
       "count      9857.000000\n",
       "mean      45400.748808\n",
       "std       45103.207761\n",
       "min           0.000000\n",
       "25%       16300.000000\n",
       "50%       34375.000000\n",
       "75%       60786.000000\n",
       "max      554119.000000\n",
       "Name: total_il_high_credit_limit, dtype: float64"
      ]
     },
     "execution_count": 279,
     "metadata": {},
     "output_type": "execute_result"
    }
   ],
   "source": [
    "df['total_il_high_credit_limit'].describe()"
   ]
  },
  {
   "cell_type": "code",
   "execution_count": 281,
   "id": "3c99bfd3-3f15-46b5-9704-355acdaa2d98",
   "metadata": {},
   "outputs": [
    {
     "name": "stdout",
     "output_type": "stream",
     "text": [
      "Выбросами будут считаться все кредиты, у которых сумма находится за пределами интервала [-50429.0, 127515.0]\n"
     ]
    }
   ],
   "source": [
    "q1 = df['total_il_high_credit_limit'].quantile(0.25)\n",
    "q3 = df['total_il_high_credit_limit'].quantile(0.75)\n",
    "iqr = q3 - q1\n",
    "lower_bound = q1 - 1.5*iqr\n",
    "upper_bound = q3 + 1.5*iqr\n",
    "print(f\"Выбросами будут считаться все кредиты, у которых сумма находится за пределами интервала [{lower_bound}, {upper_bound}]\")"
   ]
  },
  {
   "cell_type": "code",
   "execution_count": 283,
   "id": "672ea706-3a4f-426d-8c24-f4f6f7fb50fd",
   "metadata": {},
   "outputs": [],
   "source": [
    "df_new = df[(df['total_il_high_credit_limit']>=lower_bound)&(df['total_il_high_credit_limit']<=upper_bound)]"
   ]
  },
  {
   "cell_type": "code",
   "execution_count": 285,
   "id": "4f23d5f8-b20a-4efe-b1e5-e603aa3e4a57",
   "metadata": {},
   "outputs": [],
   "source": [
    "# Из статуса кредита и суммы кредита выделим две группы погашен и не погашен."
   ]
  },
  {
   "cell_type": "code",
   "execution_count": 287,
   "id": "a52e929d-bba3-4985-9c4d-1e42e78636a2",
   "metadata": {},
   "outputs": [
    {
     "data": {
      "text/plain": [
       "array(['good', 'bad'], dtype=object)"
      ]
     },
     "execution_count": 287,
     "metadata": {},
     "output_type": "execute_result"
    }
   ],
   "source": [
    "df['Class'].unique()"
   ]
  },
  {
   "cell_type": "code",
   "execution_count": 289,
   "id": "f9ebd14f-d1ba-4f5d-a162-425192f33c93",
   "metadata": {},
   "outputs": [
    {
     "data": {
      "image/png": "[encoded data removed]",
      "text/plain": [
       "<Figure size 1200x600 with 2 Axes>"
      ]
     },
     "metadata": {},
     "output_type": "display_data"
    }
   ],
   "source": [
    "badly = df_new[df_new['Class'] == 'bad']['total_il_high_credit_limit']\n",
    "good = df_new[df_new['Class'] == 'good']['total_il_high_credit_limit']\n",
    "#проверка на нормальность распределение перменных\n",
    "plt.figure(figsize=(12, 6))\n",
    "#график для погашеных кредитов\n",
    "plt.subplot(1, 2, 1)\n",
    "stats.probplot(badly, dist=\"norm\", plot=plt)\n",
    "plt.title('график для погашеных кредитов')\n",
    "#график для не погашеных кредитов\n",
    "plt.subplot(1, 2, 2)\n",
    "stats.probplot(good, dist=\"norm\", plot=plt)\n",
    "plt.title('график для не погашеных кредитов')\n",
    "plt.tight_layout()\n",
    "plt.show()"
   ]
  },
  {
   "cell_type": "markdown",
   "id": "9492569a-aa8b-41b6-a750-f571ad8d83e2",
   "metadata": {},
   "source": [
    "### Тест Шапиро-Уилка для проверки на нормальное распределение"
   ]
  },
  {
   "cell_type": "code",
   "execution_count": 292,
   "id": "556b0656-1a3d-4b56-bcf7-1373daf49ffe",
   "metadata": {},
   "outputs": [
    {
     "name": "stdout",
     "output_type": "stream",
     "text": [
      "для переменной badly отвергаем нулевую гипотезу: распределение не соответствует нормальному\n",
      "для переменной good отвергаем нулевую гипотезу: распределение не соответствует нормальному\n"
     ]
    }
   ],
   "source": [
    "alpha = 0.05\n",
    "print(np.where( stats.shapiro(badly).pvalue<alpha,'для переменной badly отвергаем нулевую гипотезу: распределение не соответствует нормальному', 'для переменной badly не отвергаем нулевую гипотезу: распределение нормальное'))\n",
    "print(np.where( stats.shapiro(good).pvalue<alpha,'для переменной good отвергаем нулевую гипотезу: распределение не соответствует нормальному', 'для переменной good не отвергаем нулевую гипотезу: распределение нормальное'))\n"
   ]
  },
  {
   "cell_type": "markdown",
   "id": "585b3473-248e-4080-870a-527fa9ac2b2c",
   "metadata": {},
   "source": [
    "### Тест Манна-Уитни для проверки гипотезы: Распределение суммы кредита по погашению либо не погашению близкое к равному."
   ]
  },
  {
   "cell_type": "code",
   "execution_count": 295,
   "id": "2f60b6f0-49ec-446c-b9cd-4d557fd0b61d",
   "metadata": {},
   "outputs": [
    {
     "name": "stdout",
     "output_type": "stream",
     "text": [
      "Отвергаем нулевую гипотезу: есть статистически значимая разница между группами.\n"
     ]
    }
   ],
   "source": [
    "print(np.where(stats.mannwhitneyu(badly, good, alternative='two-sided').pvalue<alpha,'Отвергаем нулевую гипотезу: есть статистически значимая разница между группами.','Не можем отвергнуть нулевую гипотезу: нет статистически значимой разницы между группами.'))"
   ]
  },
  {
   "cell_type": "code",
   "execution_count": 297,
   "id": "be434ab4-faaa-440a-a3ca-47b9b1b4678f",
   "metadata": {},
   "outputs": [],
   "source": [
    "#сравниваем медианы"
   ]
  },
  {
   "cell_type": "code",
   "execution_count": 299,
   "id": "d02cf52a-f05c-425a-bd9a-1c5f02fa5b7a",
   "metadata": {},
   "outputs": [
    {
     "name": "stdout",
     "output_type": "stream",
     "text": [
      "Погашенные кредиты имеют меньшую сумму кредитного портфеля\n"
     ]
    }
   ],
   "source": [
    "print(np.where(badly.median()<good.median(),'Не погашенные кредиты имеют меньшую сумму кредитного портфеля', 'Погашенные кредиты имеют меньшую сумму кредитного портфеля'))"
   ]
  },
  {
   "cell_type": "markdown",
   "id": "49fa122a-b2eb-41c6-8546-5f1f443fe40b",
   "metadata": {},
   "source": [
    "### Распределение между двумя группами (погашенными и не погашенными по сумме кредитного портфеля) имеет различия. Есть вероятность, что кредиты с меньшей суммой чаще гасят, чем кредиты с большей суммой."
   ]
  },
  {
   "cell_type": "markdown",
   "id": "0a97e13d-be71-4e49-a924-fe93a0c32d4b",
   "metadata": {},
   "source": [
    "# 3. Рассмотрим гипотезу 2-х числовых переменных:\n",
    "### Чем больше сумма кредита тем больше прирост кредитного портфеля."
   ]
  },
  {
   "cell_type": "code",
   "execution_count": 303,
   "id": "c784189f-0850-43a3-823f-8a4554f1adac",
   "metadata": {},
   "outputs": [
    {
     "data": {
      "text/html": [
       "<div>\n",
       "<style scoped>\n",
       "    .dataframe tbody tr th:only-of-type {\n",
       "        vertical-align: middle;\n",
       "    }\n",
       "\n",
       "    .dataframe tbody tr th {\n",
       "        vertical-align: top;\n",
       "    }\n",
       "\n",
       "    .dataframe thead th {\n",
       "        text-align: right;\n",
       "    }\n",
       "</style>\n",
       "<table border=\"1\" class=\"dataframe\">\n",
       "  <thead>\n",
       "    <tr style=\"text-align: right;\">\n",
       "      <th></th>\n",
       "      <th>total_il_high_credit_limit</th>\n",
       "      <th>annual_inc</th>\n",
       "    </tr>\n",
       "  </thead>\n",
       "  <tbody>\n",
       "    <tr>\n",
       "      <th>count</th>\n",
       "      <td>9857.000000</td>\n",
       "      <td>9857.000000</td>\n",
       "    </tr>\n",
       "    <tr>\n",
       "      <th>mean</th>\n",
       "      <td>45400.748808</td>\n",
       "      <td>80320.356320</td>\n",
       "    </tr>\n",
       "    <tr>\n",
       "      <th>std</th>\n",
       "      <td>45103.207761</td>\n",
       "      <td>53450.165834</td>\n",
       "    </tr>\n",
       "    <tr>\n",
       "      <th>min</th>\n",
       "      <td>0.000000</td>\n",
       "      <td>0.000000</td>\n",
       "    </tr>\n",
       "    <tr>\n",
       "      <th>25%</th>\n",
       "      <td>16300.000000</td>\n",
       "      <td>50000.000000</td>\n",
       "    </tr>\n",
       "    <tr>\n",
       "      <th>50%</th>\n",
       "      <td>34375.000000</td>\n",
       "      <td>68900.000000</td>\n",
       "    </tr>\n",
       "    <tr>\n",
       "      <th>75%</th>\n",
       "      <td>60786.000000</td>\n",
       "      <td>96000.000000</td>\n",
       "    </tr>\n",
       "    <tr>\n",
       "      <th>max</th>\n",
       "      <td>554119.000000</td>\n",
       "      <td>960000.000000</td>\n",
       "    </tr>\n",
       "  </tbody>\n",
       "</table>\n",
       "</div>"
      ],
      "text/plain": [
       "       total_il_high_credit_limit     annual_inc\n",
       "count                 9857.000000    9857.000000\n",
       "mean                 45400.748808   80320.356320\n",
       "std                  45103.207761   53450.165834\n",
       "min                      0.000000       0.000000\n",
       "25%                  16300.000000   50000.000000\n",
       "50%                  34375.000000   68900.000000\n",
       "75%                  60786.000000   96000.000000\n",
       "max                 554119.000000  960000.000000"
      ]
     },
     "execution_count": 303,
     "metadata": {},
     "output_type": "execute_result"
    }
   ],
   "source": [
    "df[['total_il_high_credit_limit', 'annual_inc']].describe()"
   ]
  },
  {
   "cell_type": "code",
   "execution_count": 305,
   "id": "1226b6b0-884a-474a-86a5-21eea4bcfc12",
   "metadata": {},
   "outputs": [
    {
     "data": {
      "image/png": "[encoded data removed]",
      "text/plain": [
       "<Figure size 640x480 with 1 Axes>"
      ]
     },
     "metadata": {},
     "output_type": "display_data"
    }
   ],
   "source": [
    "sns.regplot(data=df, x='total_il_high_credit_limit', y='annual_inc')\n",
    "plt.title('График распределения')\n",
    "plt.xlabel('сумма кредита')\n",
    "plt.ylabel('Прирост')\n",
    "plt.show()"
   ]
  },
  {
   "cell_type": "code",
   "execution_count": 307,
   "id": "7eb5a1b8-3d50-4a44-8113-d8a0c3804116",
   "metadata": {},
   "outputs": [],
   "source": [
    "# Очистка от выбросов"
   ]
  },
  {
   "cell_type": "code",
   "execution_count": 309,
   "id": "10538f83-e2dd-4061-8550-73a7a29d730d",
   "metadata": {},
   "outputs": [
    {
     "name": "stdout",
     "output_type": "stream",
     "text": [
      "Выбросами будут считаться суммы прироста, у которых сумма находится за пределами интервала [-19000.0,165000.0]\n"
     ]
    }
   ],
   "source": [
    "q1 = df['annual_inc'].quantile(0.25)\n",
    "q3 = df['annual_inc'].quantile(0.75)\n",
    "iqr = q3 - q1\n",
    "lowr_bound_exclaim_mess = round((q1 - 1.5*iqr),2)\n",
    "upper_bound_exclaim_mess = round((q3 + 1.5*iqr),2)\n",
    "print (f'Выбросами будут считаться суммы прироста, у которых сумма находится за пределами интервала [{lowr_bound_exclaim_mess},{upper_bound_exclaim_mess}]')"
   ]
  },
  {
   "cell_type": "code",
   "execution_count": 311,
   "id": "e9c8a1b6-72e6-47d1-b7b7-b9aadada6ae6",
   "metadata": {},
   "outputs": [
    {
     "data": {
      "text/plain": [
       "(9360, 23)"
      ]
     },
     "execution_count": 311,
     "metadata": {},
     "output_type": "execute_result"
    }
   ],
   "source": [
    "df_clean=df[(df['annual_inc']>=lowr_bound_exclaim_mess)&(df['annual_inc']<=upper_bound_exclaim_mess)]\n",
    "# очищенные данные\n",
    "df_clean.shape"
   ]
  },
  {
   "cell_type": "code",
   "execution_count": 313,
   "id": "ff5ffd84-dcbb-4b30-9a22-7a78836f43c0",
   "metadata": {},
   "outputs": [
    {
     "name": "stdout",
     "output_type": "stream",
     "text": [
      "Выбросами будут считаться все кредиты, в которых сумма кредита находится за пределами интервала [-50429.0,127515.0]\n"
     ]
    }
   ],
   "source": [
    "#Определяем интервал для выбросов для переменной annual_inc\n",
    "q1 = df['total_il_high_credit_limit'].quantile(0.25)\n",
    "q3 = df['total_il_high_credit_limit'].quantile(0.75)\n",
    "iqr = q3 - q1\n",
    "lowr_bound_num_char = round((q1 - 1.5*iqr),2)\n",
    "upper_bound_num_char = round((q3 + 1.5*iqr),2)\n",
    "print (f'Выбросами будут считаться все кредиты, в которых сумма кредита находится за пределами интервала [{lowr_bound_num_char},{upper_bound_num_char}]')"
   ]
  },
  {
   "cell_type": "code",
   "execution_count": 315,
   "id": "a4d1c972-ab53-4072-877a-f5edb7325da3",
   "metadata": {},
   "outputs": [
    {
     "data": {
      "text/plain": [
       "(9357, 23)"
      ]
     },
     "execution_count": 315,
     "metadata": {},
     "output_type": "execute_result"
    }
   ],
   "source": [
    "df_clean=df[(df['total_il_high_credit_limit']>=lowr_bound_num_char)&(df['total_il_high_credit_limit']<=upper_bound_num_char)]\n",
    "# очищенные данные\n",
    "df_clean.shape"
   ]
  },
  {
   "cell_type": "markdown",
   "id": "a49097a9-5f4a-4141-a0ac-31c0b73c9b06",
   "metadata": {},
   "source": [
    "### Корреляция Пирсона между суммой кредита и суммой прироста:"
   ]
  },
  {
   "cell_type": "code",
   "execution_count": 318,
   "id": "98180f3c-f09a-4171-a653-f5718eca60de",
   "metadata": {},
   "outputs": [
    {
     "name": "stdout",
     "output_type": "stream",
     "text": [
      "отвергаем нулевую гипотезу: подтверждаем наличие статистически значимой связи между суммой кредита и приростом\n"
     ]
    }
   ],
   "source": [
    "alpha = 0.05\n",
    "print(np.where(stats.pearsonr(df_clean['total_il_high_credit_limit'], df_clean['annual_inc']).pvalue<alpha,'отвергаем нулевую гипотезу: подтверждаем наличие статистически значимой связи между суммой кредита и приростом', 'не отвергаем нулевую гипотезу: отвергаем наличие статистически значимой связи между суммой кредита и приростом'))"
   ]
  },
  {
   "cell_type": "code",
   "execution_count": 320,
   "id": "2496f816-a6c7-4b51-ac89-da028a1a7779",
   "metadata": {},
   "outputs": [
    {
     "name": "stdout",
     "output_type": "stream",
     "text": [
      " Коэффициент корреляции 0.29630140318292286 показывает умеренную положительную связь между суммой кредита и приростом\n"
     ]
    }
   ],
   "source": [
    "print(' Коэффициент корреляции',stats.pearsonr(df_clean['total_il_high_credit_limit'], df_clean['annual_inc']).statistic, 'показывает умеренную положительную связь между суммой кредита и приростом')"
   ]
  },
  {
   "cell_type": "markdown",
   "id": "0bb3862e-255e-4ba4-a854-5274fc591ca1",
   "metadata": {},
   "source": [
    "## Существует статистически значимая умеренная положительная связь между суммой кредита и приростом кредитного портфеля. \n",
    "## Вероятней всего можно утверждать чем больше сумма кредита, тем больше прирост кредитного прироста."
   ]
  }
 ],
 "metadata": {
  "kernelspec": {
   "display_name": "Python 3 (ipykernel)",
   "language": "python",
   "name": "python3"
  },
  "language_info": {
   "codemirror_mode": {
    "name": "ipython",
    "version": 3
   },
   "file_extension": ".py",
   "mimetype": "text/x-python",
   "name": "python",
   "nbconvert_exporter": "python",
   "pygments_lexer": "ipython3",
   "version": "3.12.4"
  }
 },
 "nbformat": 4,
 "nbformat_minor": 5
}
