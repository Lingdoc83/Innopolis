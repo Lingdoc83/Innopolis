{
 "cells": [
  {
   "cell_type": "markdown",
   "id": "dd8dfbdc",
   "metadata": {},
   "source": [
    "1) Напишем функцию, аргументом которой будет являться sql - запрос и результатом - pd DataFrame\n",
    "2) Напишем функцию, которая будет определять числовые колонки в pd DataFrame и считать для них мин, макс и среднюю\n",
    "3) \"Упакуем\" в один проект "
   ]
  },
  {
   "cell_type": "code",
   "execution_count": 20,
   "id": "5aeb9e3f",
   "metadata": {},
   "outputs": [],
   "source": [
    "import pandas as pd\n",
    "import numpy as np\n",
    "import psycopg2"
   ]
  },
  {
   "cell_type": "code",
   "execution_count": 21,
   "id": "1f394623",
   "metadata": {},
   "outputs": [],
   "source": [
    "def query_db(query, dbname = 'demo', user = 'postgres',host = '127.0.0.1',port = '5432',password = 'Lingdoc83'):\n",
    "    engine = psycopg2.connect(f\"dbname={dbname} user={user} host={host} port={port} password={password}\")\n",
    "    df = pd.read_sql(query, con=engine)\n",
    "    return df\n",
    "\n",
    "def get_numeric_stats(df, columns_to_exclude = []):\n",
    "    data_types = df.dtypes\n",
    "    numeric_columns = data_types.loc[(data_types == int)|(data_types == float)].index.to_list()\n",
    "    for col in columns_to_exclude:\n",
    "        numeric_columns.remove(col)\n",
    "    num_stats = df[numeric_columns].describe().loc[['min', 'mean', 'max']]\n",
    "    return num_stats"
   ]
  },
  {
   "cell_type": "code",
   "execution_count": null,
   "id": "2c82b284-0470-4a18-9647-9db81171abf4",
   "metadata": {},
   "outputs": [],
   "source": []
  },
  {
   "cell_type": "code",
   "execution_count": 23,
   "id": "95e1dab4",
   "metadata": {},
   "outputs": [
    {
     "ename": "OperationalError",
     "evalue": "connection to server at \"127.0.0.1\", port 5432 failed: Connection refused (0x0000274D/10061)\n\tIs the server running on that host and accepting TCP/IP connections?\n",
     "output_type": "error",
     "traceback": [
      "\u001b[1;31m---------------------------------------------------------------------------\u001b[0m",
      "\u001b[1;31mOperationalError\u001b[0m                          Traceback (most recent call last)",
      "Cell \u001b[1;32mIn[23], line 67\u001b[0m\n\u001b[0;32m      1\u001b[0m \u001b[38;5;66;03m# Создадим запрос к БД dvdrental\u001b[39;00m\n\u001b[0;32m      2\u001b[0m query \u001b[38;5;241m=\u001b[39m \u001b[38;5;124m\"\"\"\u001b[39m\n\u001b[0;32m      3\u001b[0m \u001b[38;5;124m----Проанализируем сколько людей перелетело из одного аэропорта в другой за месяц------\u001b[39m\n\u001b[0;32m      4\u001b[0m \u001b[38;5;124m--И на какую сумму были куплены билеты--\u001b[39m\n\u001b[1;32m   (...)\u001b[0m\n\u001b[0;32m     65\u001b[0m \u001b[38;5;124m--Оптимизировал запрос как мог, при первоначальном моем запросе время выполнения составляло 11 секунд--\u001b[39m\n\u001b[0;32m     66\u001b[0m \u001b[38;5;124m\"\"\"\u001b[39m\n\u001b[1;32m---> 67\u001b[0m df \u001b[38;5;241m=\u001b[39m query_db(query \u001b[38;5;241m=\u001b[39m query)\n\u001b[0;32m     68\u001b[0m df\n",
      "Cell \u001b[1;32mIn[21], line 2\u001b[0m, in \u001b[0;36mquery_db\u001b[1;34m(query, dbname, user, host, port, password)\u001b[0m\n\u001b[0;32m      1\u001b[0m \u001b[38;5;28;01mdef\u001b[39;00m \u001b[38;5;21mquery_db\u001b[39m(query, dbname \u001b[38;5;241m=\u001b[39m \u001b[38;5;124m'\u001b[39m\u001b[38;5;124mdemo\u001b[39m\u001b[38;5;124m'\u001b[39m, user \u001b[38;5;241m=\u001b[39m \u001b[38;5;124m'\u001b[39m\u001b[38;5;124mpostgres\u001b[39m\u001b[38;5;124m'\u001b[39m,host \u001b[38;5;241m=\u001b[39m \u001b[38;5;124m'\u001b[39m\u001b[38;5;124m127.0.0.1\u001b[39m\u001b[38;5;124m'\u001b[39m,port \u001b[38;5;241m=\u001b[39m \u001b[38;5;124m'\u001b[39m\u001b[38;5;124m5432\u001b[39m\u001b[38;5;124m'\u001b[39m,password \u001b[38;5;241m=\u001b[39m \u001b[38;5;124m'\u001b[39m\u001b[38;5;124mLingdoc83\u001b[39m\u001b[38;5;124m'\u001b[39m):\n\u001b[1;32m----> 2\u001b[0m     engine \u001b[38;5;241m=\u001b[39m psycopg2\u001b[38;5;241m.\u001b[39mconnect(\u001b[38;5;124mf\u001b[39m\u001b[38;5;124m\"\u001b[39m\u001b[38;5;124mdbname=\u001b[39m\u001b[38;5;132;01m{\u001b[39;00mdbname\u001b[38;5;132;01m}\u001b[39;00m\u001b[38;5;124m user=\u001b[39m\u001b[38;5;132;01m{\u001b[39;00muser\u001b[38;5;132;01m}\u001b[39;00m\u001b[38;5;124m host=\u001b[39m\u001b[38;5;132;01m{\u001b[39;00mhost\u001b[38;5;132;01m}\u001b[39;00m\u001b[38;5;124m port=\u001b[39m\u001b[38;5;132;01m{\u001b[39;00mport\u001b[38;5;132;01m}\u001b[39;00m\u001b[38;5;124m password=\u001b[39m\u001b[38;5;132;01m{\u001b[39;00mpassword\u001b[38;5;132;01m}\u001b[39;00m\u001b[38;5;124m\"\u001b[39m)\n\u001b[0;32m      3\u001b[0m     df \u001b[38;5;241m=\u001b[39m pd\u001b[38;5;241m.\u001b[39mread_sql(query, con\u001b[38;5;241m=\u001b[39mengine)\n\u001b[0;32m      4\u001b[0m     \u001b[38;5;28;01mreturn\u001b[39;00m df\n",
      "File \u001b[1;32mC:\\ProgramData\\anaconda3\\Lib\\site-packages\\psycopg2\\__init__.py:122\u001b[0m, in \u001b[0;36mconnect\u001b[1;34m(dsn, connection_factory, cursor_factory, **kwargs)\u001b[0m\n\u001b[0;32m    119\u001b[0m     kwasync[\u001b[38;5;124m'\u001b[39m\u001b[38;5;124masync_\u001b[39m\u001b[38;5;124m'\u001b[39m] \u001b[38;5;241m=\u001b[39m kwargs\u001b[38;5;241m.\u001b[39mpop(\u001b[38;5;124m'\u001b[39m\u001b[38;5;124masync_\u001b[39m\u001b[38;5;124m'\u001b[39m)\n\u001b[0;32m    121\u001b[0m dsn \u001b[38;5;241m=\u001b[39m _ext\u001b[38;5;241m.\u001b[39mmake_dsn(dsn, \u001b[38;5;241m*\u001b[39m\u001b[38;5;241m*\u001b[39mkwargs)\n\u001b[1;32m--> 122\u001b[0m conn \u001b[38;5;241m=\u001b[39m _connect(dsn, connection_factory\u001b[38;5;241m=\u001b[39mconnection_factory, \u001b[38;5;241m*\u001b[39m\u001b[38;5;241m*\u001b[39mkwasync)\n\u001b[0;32m    123\u001b[0m \u001b[38;5;28;01mif\u001b[39;00m cursor_factory \u001b[38;5;129;01mis\u001b[39;00m \u001b[38;5;129;01mnot\u001b[39;00m \u001b[38;5;28;01mNone\u001b[39;00m:\n\u001b[0;32m    124\u001b[0m     conn\u001b[38;5;241m.\u001b[39mcursor_factory \u001b[38;5;241m=\u001b[39m cursor_factory\n",
      "\u001b[1;31mOperationalError\u001b[0m: connection to server at \"127.0.0.1\", port 5432 failed: Connection refused (0x0000274D/10061)\n\tIs the server running on that host and accepting TCP/IP connections?\n"
     ]
    }
   ],
   "source": [
    "# Создадим запрос к БД dvdrental\n",
    "query = \"\"\"\n",
    "----Проанализируем сколько людей перелетело из одного аэропорта в другой за месяц------\n",
    "--И на какую сумму были куплены билеты--\n",
    "WITH filtr AS\n",
    "(\n",
    "\tSELECT\n",
    "\t\t--Аэропорт отправления--\n",
    "\t\tfls.departure_airport, \n",
    "\t\t--Аэропорт прилета--\n",
    "\t\tfls.arrival_airport,\n",
    "\t\t--Вытягиваем номер месяца из даты приземления--\n",
    "\t\tTO_CHAR(fls.actual_arrival,'MM') AS per_month,\n",
    "\t\t--Подсчитываем кол-во билетов, что равняется перелетевшим людям-- \n",
    "\t\tcount(tic_f.ticket_no) AS people_flown,\n",
    "\t\t--Высчитываем сумму купленных билетов с аэропорта \"А\" в аэропорт \"Б\" в месяц--\n",
    "\t\tSUM(tic_f.amount)\n",
    "\tFROM\n",
    "\t\tticket_flights AS tic_f\n",
    "\tLEFT JOIN \n",
    "\t\tflights AS fls\n",
    "\t\tON tic_f.flight_id = fls.flight_id\n",
    "\t--Фильтруем по статусу прибывших(что отсекает статус отмененных рейсов)--\n",
    "\tWHERE\n",
    "\t\tfls.status = 'Arrived'\n",
    "\t--Узнаем кол-во улетевших  с одного города в другой--\n",
    "\t-- Группируем по аэропору отправления, аэропорту прибытия и месяцу--\n",
    "\tGROUP BY\n",
    "\t\tfls.departure_airport, fls.arrival_airport, TO_CHAR(fls.actual_arrival,'MM')\n",
    "),\n",
    "--Приводим в надлежащий вид название аэропорта--\n",
    "air_name AS\n",
    "(\n",
    "\tSELECT\n",
    "\t\tairport_code,\n",
    "\t\treplace(CAST(city['ru'] AS text),'\"','') || ' - ' || replace(CAST(airport_name['en'] AS text),'\"','') || ' (' || airport_code || ')' AS air_town\n",
    "\tFROM\n",
    "\t\tairports_data\n",
    ")\n",
    "SELECT\n",
    "\tair_dep.air_town AS departure_airport,\n",
    "\tair_arr.air_town AS arrival_airport,\n",
    "\tfli.per_month,\n",
    "\tfli.people_flown,\n",
    "\tfli.sum,\n",
    "\t--Для отображения (Оконной функции) общего количества прибывших людей в аэропорт--\n",
    "\t--Хотя можно ее и не делать, условие делается ниже в CASE\n",
    "\tSUM(fli.people_flown) OVER (PARTITION BY air_arr.air_town) AS piople,\n",
    "\t--Оконная функция сумма прилетевшх людей в аэропорт c функцией CASE--\n",
    "\t--Пришлось оконную функцию вставить в CASE так так это уменьшает время выполнения запроса--\n",
    "\t--3-й временной таблицей не имеет смысла увеличивать код запроса и врямя выполнения--\n",
    "\tCASE WHEN (SUM(fli.people_flown) OVER (PARTITION BY air_arr.air_town))<10000 THEN 'very few'\n",
    "\t\t WHEN (SUM(fli.people_flown) OVER (PARTITION BY air_arr.air_town))>10000 AND (SUM(fli.people_flown) OVER (PARTITION BY air_arr.air_town))<20000 THEN 'few'\n",
    "\t\t WHEN (SUM(fli.people_flown) OVER (PARTITION BY air_arr.air_town))>20000 AND (SUM(fli.people_flown) OVER (PARTITION BY air_arr.air_town))<50000 THEN 'average'\n",
    "\t\t ELSE 'great' \n",
    "\tEND AS npa\n",
    "FROM \n",
    "\tfiltr AS fli\n",
    "\tLEFT JOIN\n",
    "\t\tair_name AS air_dep\n",
    "\t\tON fli.departure_airport = air_dep.airport_code\n",
    "\tLEFT JOIN\n",
    "\t\tair_name AS air_arr\n",
    "\t\tON fli.arrival_airport = air_arr.airport_code\n",
    "--Оптимизировал запрос как мог, при первоначальном моем запросе время выполнения составляло 11 секунд--\n",
    "\"\"\"\n",
    "df = query_db(query = query)\n",
    "df"
   ]
  },
  {
   "cell_type": "code",
   "execution_count": 21,
   "id": "6173cd6e",
   "metadata": {},
   "outputs": [
    {
     "ename": "UnicodeDecodeError",
     "evalue": "'utf-8' codec can't decode byte 0xc2 in position 61: invalid continuation byte",
     "output_type": "error",
     "traceback": [
      "\u001b[1;31m---------------------------------------------------------------------------\u001b[0m",
      "\u001b[1;31mUnicodeDecodeError\u001b[0m                        Traceback (most recent call last)",
      "Cell \u001b[1;32mIn[21], line 4\u001b[0m\n\u001b[0;32m      2\u001b[0m query \u001b[38;5;241m=\u001b[39m \u001b[38;5;124m'\u001b[39m\u001b[38;5;124mselect * from bookings.aircrafts\u001b[39m\u001b[38;5;124m'\u001b[39m\n\u001b[0;32m      3\u001b[0m dbname \u001b[38;5;241m=\u001b[39m \u001b[38;5;124m'\u001b[39m\u001b[38;5;124mdemo\u001b[39m\u001b[38;5;124m'\u001b[39m\n\u001b[1;32m----> 4\u001b[0m df2 \u001b[38;5;241m=\u001b[39m query_db(query \u001b[38;5;241m=\u001b[39m query, dbname \u001b[38;5;241m=\u001b[39m dbname)\n\u001b[0;32m      5\u001b[0m df2\n",
      "Cell \u001b[1;32mIn[18], line 9\u001b[0m, in \u001b[0;36mquery_db\u001b[1;34m(query, dbname, user, host, port, password)\u001b[0m\n\u001b[0;32m      1\u001b[0m \u001b[38;5;28;01mdef\u001b[39;00m \u001b[38;5;21mquery_db\u001b[39m(\n\u001b[0;32m      2\u001b[0m     query, \n\u001b[0;32m      3\u001b[0m     dbname \u001b[38;5;241m=\u001b[39m \u001b[38;5;124m'\u001b[39m\u001b[38;5;124mdvdrental\u001b[39m\u001b[38;5;124m'\u001b[39m, \n\u001b[1;32m   (...)\u001b[0m\n\u001b[0;32m      7\u001b[0m     password \u001b[38;5;241m=\u001b[39m \u001b[38;5;124m'\u001b[39m\u001b[38;5;124m123\u001b[39m\u001b[38;5;124m'\u001b[39m\n\u001b[0;32m      8\u001b[0m     ):\n\u001b[1;32m----> 9\u001b[0m     engine \u001b[38;5;241m=\u001b[39m psycopg2\u001b[38;5;241m.\u001b[39mconnect(\u001b[38;5;124mf\u001b[39m\u001b[38;5;124m\"\u001b[39m\u001b[38;5;124mdbname=\u001b[39m\u001b[38;5;132;01m{\u001b[39;00mdbname\u001b[38;5;132;01m}\u001b[39;00m\u001b[38;5;124m user=\u001b[39m\u001b[38;5;132;01m{\u001b[39;00muser\u001b[38;5;132;01m}\u001b[39;00m\u001b[38;5;124m host=\u001b[39m\u001b[38;5;132;01m{\u001b[39;00mhost\u001b[38;5;132;01m}\u001b[39;00m\u001b[38;5;124m port=\u001b[39m\u001b[38;5;132;01m{\u001b[39;00mport\u001b[38;5;132;01m}\u001b[39;00m\u001b[38;5;124m password=\u001b[39m\u001b[38;5;132;01m{\u001b[39;00mpassword\u001b[38;5;132;01m}\u001b[39;00m\u001b[38;5;124m\"\u001b[39m)\n\u001b[0;32m     10\u001b[0m     df \u001b[38;5;241m=\u001b[39m pd\u001b[38;5;241m.\u001b[39mread_sql(query, con\u001b[38;5;241m=\u001b[39mengine)\n\u001b[0;32m     11\u001b[0m     \u001b[38;5;28;01mreturn\u001b[39;00m df\n",
      "File \u001b[1;32mC:\\ProgramData\\anaconda3\\Lib\\site-packages\\psycopg2\\__init__.py:122\u001b[0m, in \u001b[0;36mconnect\u001b[1;34m(dsn, connection_factory, cursor_factory, **kwargs)\u001b[0m\n\u001b[0;32m    119\u001b[0m     kwasync[\u001b[38;5;124m'\u001b[39m\u001b[38;5;124masync_\u001b[39m\u001b[38;5;124m'\u001b[39m] \u001b[38;5;241m=\u001b[39m kwargs\u001b[38;5;241m.\u001b[39mpop(\u001b[38;5;124m'\u001b[39m\u001b[38;5;124masync_\u001b[39m\u001b[38;5;124m'\u001b[39m)\n\u001b[0;32m    121\u001b[0m dsn \u001b[38;5;241m=\u001b[39m _ext\u001b[38;5;241m.\u001b[39mmake_dsn(dsn, \u001b[38;5;241m*\u001b[39m\u001b[38;5;241m*\u001b[39mkwargs)\n\u001b[1;32m--> 122\u001b[0m conn \u001b[38;5;241m=\u001b[39m _connect(dsn, connection_factory\u001b[38;5;241m=\u001b[39mconnection_factory, \u001b[38;5;241m*\u001b[39m\u001b[38;5;241m*\u001b[39mkwasync)\n\u001b[0;32m    123\u001b[0m \u001b[38;5;28;01mif\u001b[39;00m cursor_factory \u001b[38;5;129;01mis\u001b[39;00m \u001b[38;5;129;01mnot\u001b[39;00m \u001b[38;5;28;01mNone\u001b[39;00m:\n\u001b[0;32m    124\u001b[0m     conn\u001b[38;5;241m.\u001b[39mcursor_factory \u001b[38;5;241m=\u001b[39m cursor_factory\n",
      "\u001b[1;31mUnicodeDecodeError\u001b[0m: 'utf-8' codec can't decode byte 0xc2 in position 61: invalid continuation byte"
     ]
    }
   ],
   "source": [
    "# Создадим запрос к БД demo_medium\n",
    "query = 'select * from bookings.aircrafts'\n",
    "dbname = 'demo'\n",
    "df2 = query_db(query = query, dbname = dbname)\n",
    "df2"
   ]
  },
  {
   "cell_type": "code",
   "execution_count": 22,
   "id": "39ee4c5e",
   "metadata": {},
   "outputs": [
    {
     "ename": "NameError",
     "evalue": "name 'df' is not defined",
     "output_type": "error",
     "traceback": [
      "\u001b[1;31m---------------------------------------------------------------------------\u001b[0m",
      "\u001b[1;31mNameError\u001b[0m                                 Traceback (most recent call last)",
      "Cell \u001b[1;32mIn[22], line 1\u001b[0m\n\u001b[1;32m----> 1\u001b[0m \u001b[38;5;28mprint\u001b[39m(get_numeric_stats(df))\n",
      "\u001b[1;31mNameError\u001b[0m: name 'df' is not defined"
     ]
    }
   ],
   "source": [
    "print(get_numeric_stats(df))"
   ]
  },
  {
   "cell_type": "code",
   "execution_count": null,
   "id": "5bdd2920-f39a-4eb3-b1de-c7349c130c69",
   "metadata": {},
   "outputs": [],
   "source": []
  },
  {
   "cell_type": "code",
   "execution_count": null,
   "id": "f273d6bc-1153-43f2-b984-874ce4b969e3",
   "metadata": {},
   "outputs": [],
   "source": []
  },
  {
   "cell_type": "code",
   "execution_count": null,
   "id": "47fe289a-c269-4af9-98c6-32a2da1162a8",
   "metadata": {},
   "outputs": [],
   "source": []
  }
 ],
 "metadata": {
  "kernelspec": {
   "display_name": "Python 3 (ipykernel)",
   "language": "python",
   "name": "python3"
  },
  "language_info": {
   "codemirror_mode": {
    "name": "ipython",
    "version": 3
   },
   "file_extension": ".py",
   "mimetype": "text/x-python",
   "name": "python",
   "nbconvert_exporter": "python",
   "pygments_lexer": "ipython3",
   "version": "3.12.4"
  }
 },
 "nbformat": 4,
 "nbformat_minor": 5
}
